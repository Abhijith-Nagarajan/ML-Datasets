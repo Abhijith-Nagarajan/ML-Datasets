{
  "nbformat": 4,
  "nbformat_minor": 0,
  "metadata": {
    "colab": {
      "name": "Tf2.0-CNN.ipynb",
      "provenance": [],
      "collapsed_sections": [],
      "authorship_tag": "ABX9TyO/LmdSgcDxgXWAY1VE7G2D",
      "include_colab_link": true
    },
    "kernelspec": {
      "name": "python3",
      "display_name": "Python 3"
    }
  },
  "cells": [
    {
      "cell_type": "markdown",
      "metadata": {
        "id": "view-in-github",
        "colab_type": "text"
      },
      "source": [
        "<a href=\"https://colab.research.google.com/github/Abhijith-Nagarajan/ML-Datasets/blob/master/Tf2_0_CNN.ipynb\" target=\"_parent\"><img src=\"https://colab.research.google.com/assets/colab-badge.svg\" alt=\"Open In Colab\"/></a>"
      ]
    },
    {
      "cell_type": "markdown",
      "metadata": {
        "id": "hGqunorJEGiQ",
        "colab_type": "text"
      },
      "source": [
        "##This is an implementation of the cifar10 dataset\n"
      ]
    },
    {
      "cell_type": "markdown",
      "metadata": {
        "id": "5xTXQIcTEQPi",
        "colab_type": "text"
      },
      "source": [
        "<h2>Importing the libraries"
      ]
    },
    {
      "cell_type": "code",
      "metadata": {
        "id": "iQiBJViQvcDe",
        "colab_type": "code",
        "colab": {}
      },
      "source": [
        "import tensorflow as tf\n",
        "import matplotlib. pyplot as plt\n"
      ],
      "execution_count": 0,
      "outputs": []
    },
    {
      "cell_type": "markdown",
      "metadata": {
        "id": "u1GQ4SA3EUL9",
        "colab_type": "text"
      },
      "source": [
        "<h2> Importing the dataset and loading the data"
      ]
    },
    {
      "cell_type": "code",
      "metadata": {
        "id": "ZL-20vG4w2rU",
        "colab_type": "code",
        "colab": {}
      },
      "source": [
        "from tensorflow.keras.datasets import cifar10"
      ],
      "execution_count": 0,
      "outputs": []
    },
    {
      "cell_type": "code",
      "metadata": {
        "id": "Lj58O2y70f7-",
        "colab_type": "code",
        "colab": {
          "base_uri": "https://localhost:8080/",
          "height": 50
        },
        "outputId": "b1bea7ef-375d-44ba-cd0d-01aad1b6fb05"
      },
      "source": [
        "(X_train,Y_train),(X_test,Y_test) = cifar10.load_data()"
      ],
      "execution_count": 5,
      "outputs": [
        {
          "output_type": "stream",
          "text": [
            "Downloading data from https://www.cs.toronto.edu/~kriz/cifar-10-python.tar.gz\n",
            "170500096/170498071 [==============================] - 11s 0us/step\n"
          ],
          "name": "stdout"
        }
      ]
    },
    {
      "cell_type": "code",
      "metadata": {
        "id": "wg-tED5x0qbR",
        "colab_type": "code",
        "colab": {}
      },
      "source": [
        "# Normalizing the images\n",
        "X_train = X_train/255.0"
      ],
      "execution_count": 0,
      "outputs": []
    },
    {
      "cell_type": "code",
      "metadata": {
        "id": "a_UsIEZh0wWR",
        "colab_type": "code",
        "colab": {
          "base_uri": "https://localhost:8080/",
          "height": 34
        },
        "outputId": "b4c5d2a2-63bc-48b5-e340-d79cd886003d"
      },
      "source": [
        "X_train.shape"
      ],
      "execution_count": 7,
      "outputs": [
        {
          "output_type": "execute_result",
          "data": {
            "text/plain": [
              "(50000, 32, 32, 3)"
            ]
          },
          "metadata": {
            "tags": []
          },
          "execution_count": 7
        }
      ]
    },
    {
      "cell_type": "code",
      "metadata": {
        "id": "MW-y8rGT0y5n",
        "colab_type": "code",
        "colab": {}
      },
      "source": [
        "X_test = X_test/255.0"
      ],
      "execution_count": 0,
      "outputs": []
    },
    {
      "cell_type": "code",
      "metadata": {
        "id": "H4LZmAi101fB",
        "colab_type": "code",
        "colab": {
          "base_uri": "https://localhost:8080/",
          "height": 283
        },
        "outputId": "a8b0e7c5-4473-41b8-f74f-68eb540e4a37"
      },
      "source": [
        "plt.imshow(X_test[8000])"
      ],
      "execution_count": 9,
      "outputs": [
        {
          "output_type": "execute_result",
          "data": {
            "text/plain": [
              "<matplotlib.image.AxesImage at 0x7f24fccd45f8>"
            ]
          },
          "metadata": {
            "tags": []
          },
          "execution_count": 9
        },
        {
          "output_type": "display_data",
          "data": {
            "image/png": "[encoded data removed]",
            "text/plain": [
              "<Figure size 432x288 with 1 Axes>"
            ]
          },
          "metadata": {
            "tags": [],
            "needs_background": "light"
          }
        }
      ]
    },
    {
      "cell_type": "markdown",
      "metadata": {
        "id": "0frKf25t1cmS",
        "colab_type": "text"
      },
      "source": [
        "##Building the CNN"
      ]
    },
    {
      "cell_type": "code",
      "metadata": {
        "id": "NKkV2M8B075L",
        "colab_type": "code",
        "colab": {}
      },
      "source": [
        "model = tf.keras.models.Sequential()"
      ],
      "execution_count": 0,
      "outputs": []
    },
    {
      "cell_type": "markdown",
      "metadata": {
        "id": "61Ndov0j1luE",
        "colab_type": "text"
      },
      "source": [
        "<h2><u>Adding the first layer</u><br></h2>\n",
        "<h3>Filters : 32<br>\n",
        "kernal_size : 3<br>\n",
        "Padding : Same<br>\n",
        "Activation : relu</h3>\n"
      ]
    },
    {
      "cell_type": "code",
      "metadata": {
        "id": "Zqg0O3A61i1u",
        "colab_type": "code",
        "colab": {}
      },
      "source": [
        "model.add(tf.keras.layers.Conv2D(filters=32,kernel_size=3,padding=\"same\",activation=\"relu\",input_shape=[32,32,3]))"
      ],
      "execution_count": 0,
      "outputs": []
    },
    {
      "cell_type": "markdown",
      "metadata": {
        "id": "tHQHt0YC21zn",
        "colab_type": "text"
      },
      "source": [
        "<h2><u>Adding the second layer</u><br></h2>\n",
        "<h3>Filters : 32<br>\n",
        "kernal_size : 3<br>\n",
        "Padding : Same<br>\n",
        "Activation : relu</h3>"
      ]
    },
    {
      "cell_type": "code",
      "metadata": {
        "id": "KPLKpOXw-TFU",
        "colab_type": "code",
        "colab": {}
      },
      "source": [
        "model.add(tf.keras.layers.Conv2D(filters=32,kernel_size=3,padding=\"same\",activation=\"relu\"))"
      ],
      "execution_count": 0,
      "outputs": []
    },
    {
      "cell_type": "code",
      "metadata": {
        "id": "lVKD2HeY-VkO",
        "colab_type": "code",
        "colab": {}
      },
      "source": [
        "model.add(tf.keras.layers.MaxPool2D(pool_size=(2,2),strides=2,padding='valid'))"
      ],
      "execution_count": 0,
      "outputs": []
    },
    {
      "cell_type": "markdown",
      "metadata": {
        "id": "Ty9kSPa5-Yjk",
        "colab_type": "text"
      },
      "source": [
        "<h2><u>Adding the third layer</u><br></h2>\n",
        "<h3>Filters : 48<br>\n",
        "kernal_size : 3<br>\n",
        "Padding : Same<br>\n",
        "Activation : relu</h3>"
      ]
    },
    {
      "cell_type": "code",
      "metadata": {
        "id": "IIUpNE_n2VNf",
        "colab_type": "code",
        "colab": {}
      },
      "source": [
        "model.add(tf.keras.layers.Conv2D(filters=48,kernel_size=3,padding='same',activation='relu'))"
      ],
      "execution_count": 0,
      "outputs": []
    },
    {
      "cell_type": "code",
      "metadata": {
        "id": "FRrnrnni3--6",
        "colab_type": "code",
        "colab": {}
      },
      "source": [
        "model.add(tf.keras.layers.MaxPool2D(pool_size=(2,2),strides=2,padding='valid'))"
      ],
      "execution_count": 0,
      "outputs": []
    },
    {
      "cell_type": "code",
      "metadata": {
        "id": "l5g0oyCq4NHJ",
        "colab_type": "code",
        "colab": {
          "base_uri": "https://localhost:8080/",
          "height": 319
        },
        "outputId": "6e20590c-c37a-49b9-f7e2-3ae468318429"
      },
      "source": [
        "model.summary()"
      ],
      "execution_count": 16,
      "outputs": [
        {
          "output_type": "stream",
          "text": [
            "Model: \"sequential\"\n",
            "_________________________________________________________________\n",
            "Layer (type)                 Output Shape              Param #   \n",
            "=================================================================\n",
            "conv2d (Conv2D)              (None, 32, 32, 32)        896       \n",
            "_________________________________________________________________\n",
            "conv2d_1 (Conv2D)            (None, 32, 32, 32)        9248      \n",
            "_________________________________________________________________\n",
            "max_pooling2d (MaxPooling2D) (None, 16, 16, 32)        0         \n",
            "_________________________________________________________________\n",
            "conv2d_2 (Conv2D)            (None, 16, 16, 48)        13872     \n",
            "_________________________________________________________________\n",
            "max_pooling2d_1 (MaxPooling2 (None, 8, 8, 48)          0         \n",
            "=================================================================\n",
            "Total params: 24,016\n",
            "Trainable params: 24,016\n",
            "Non-trainable params: 0\n",
            "_________________________________________________________________\n"
          ],
          "name": "stdout"
        }
      ]
    },
    {
      "cell_type": "markdown",
      "metadata": {
        "colab_type": "text",
        "id": "ZLizzZ2i40O1"
      },
      "source": [
        "<h2><u>Adding the fourth layer</u><br></h2>\n",
        "<h3>Filters : 64<br>\n",
        "kernal_size : 3<br>\n",
        "Padding : Same<br>\n",
        "Activation : relu</h3>"
      ]
    },
    {
      "cell_type": "code",
      "metadata": {
        "id": "w_Y5gtdv4MOy",
        "colab_type": "code",
        "colab": {}
      },
      "source": [
        "model.add(tf.keras.layers.Conv2D(filters=64,kernel_size=3,padding='same',activation='relu'))"
      ],
      "execution_count": 0,
      "outputs": []
    },
    {
      "cell_type": "code",
      "metadata": {
        "id": "7meSV3Ix5OC_",
        "colab_type": "code",
        "colab": {}
      },
      "source": [
        "model.add(tf.keras.layers.MaxPool2D(pool_size=(2,2),strides=2,padding='valid'))"
      ],
      "execution_count": 0,
      "outputs": []
    },
    {
      "cell_type": "markdown",
      "metadata": {
        "id": "jiHV_h6A5cX2",
        "colab_type": "text"
      },
      "source": [
        "<h2>Flattening the data"
      ]
    },
    {
      "cell_type": "code",
      "metadata": {
        "id": "4cyZh98Z5bN-",
        "colab_type": "code",
        "colab": {}
      },
      "source": [
        "model.add(tf.keras.layers.Flatten())"
      ],
      "execution_count": 0,
      "outputs": []
    },
    {
      "cell_type": "markdown",
      "metadata": {
        "id": "aClVies-6m5r",
        "colab_type": "text"
      },
      "source": [
        "<h3>Adding the fully connected layer"
      ]
    },
    {
      "cell_type": "code",
      "metadata": {
        "id": "ST3q3VL66nVT",
        "colab_type": "code",
        "colab": {}
      },
      "source": [
        "model.add(tf.keras.layers.Dense(units=128,activation='relu'))"
      ],
      "execution_count": 0,
      "outputs": []
    },
    {
      "cell_type": "markdown",
      "metadata": {
        "id": "IDaTzTnC6-yu",
        "colab_type": "text"
      },
      "source": [
        "<h3>Adding the output layer"
      ]
    },
    {
      "cell_type": "code",
      "metadata": {
        "id": "CtJPI5dZ6nnb",
        "colab_type": "code",
        "colab": {}
      },
      "source": [
        "model.add(tf.keras.layers.Dense(units=10,activation='softmax'))"
      ],
      "execution_count": 0,
      "outputs": []
    },
    {
      "cell_type": "code",
      "metadata": {
        "id": "EjI3UFvU7N2M",
        "colab_type": "code",
        "colab": {
          "base_uri": "https://localhost:8080/",
          "height": 487
        },
        "outputId": "dfe15b0a-c254-49a1-eed3-150dbaf55529"
      },
      "source": [
        "model.summary()"
      ],
      "execution_count": 22,
      "outputs": [
        {
          "output_type": "stream",
          "text": [
            "Model: \"sequential\"\n",
            "_________________________________________________________________\n",
            "Layer (type)                 Output Shape              Param #   \n",
            "=================================================================\n",
            "conv2d (Conv2D)              (None, 32, 32, 32)        896       \n",
            "_________________________________________________________________\n",
            "conv2d_1 (Conv2D)            (None, 32, 32, 32)        9248      \n",
            "_________________________________________________________________\n",
            "max_pooling2d (MaxPooling2D) (None, 16, 16, 32)        0         \n",
            "_________________________________________________________________\n",
            "conv2d_2 (Conv2D)            (None, 16, 16, 48)        13872     \n",
            "_________________________________________________________________\n",
            "max_pooling2d_1 (MaxPooling2 (None, 8, 8, 48)          0         \n",
            "_________________________________________________________________\n",
            "conv2d_3 (Conv2D)            (None, 8, 8, 64)          27712     \n",
            "_________________________________________________________________\n",
            "max_pooling2d_2 (MaxPooling2 (None, 4, 4, 64)          0         \n",
            "_________________________________________________________________\n",
            "flatten (Flatten)            (None, 1024)              0         \n",
            "_________________________________________________________________\n",
            "dense (Dense)                (None, 128)               131200    \n",
            "_________________________________________________________________\n",
            "dense_1 (Dense)              (None, 10)                1290      \n",
            "=================================================================\n",
            "Total params: 184,218\n",
            "Trainable params: 184,218\n",
            "Non-trainable params: 0\n",
            "_________________________________________________________________\n"
          ],
          "name": "stdout"
        }
      ]
    },
    {
      "cell_type": "markdown",
      "metadata": {
        "id": "Du7TguNF7lLi",
        "colab_type": "text"
      },
      "source": [
        "##Compiling the model"
      ]
    },
    {
      "cell_type": "code",
      "metadata": {
        "id": "H5t-SQ5G7nM9",
        "colab_type": "code",
        "colab": {}
      },
      "source": [
        "model.compile(optimizer='adam',loss='sparse_categorical_crossentropy',metrics=['sparse_categorical_accuracy'])"
      ],
      "execution_count": 0,
      "outputs": []
    },
    {
      "cell_type": "code",
      "metadata": {
        "id": "I9lCRDT072A-",
        "colab_type": "code",
        "colab": {
          "base_uri": "https://localhost:8080/",
          "height": 487
        },
        "outputId": "ef801a2b-b194-417a-848a-42616724007c"
      },
      "source": [
        "model.summary()"
      ],
      "execution_count": 24,
      "outputs": [
        {
          "output_type": "stream",
          "text": [
            "Model: \"sequential\"\n",
            "_________________________________________________________________\n",
            "Layer (type)                 Output Shape              Param #   \n",
            "=================================================================\n",
            "conv2d (Conv2D)              (None, 32, 32, 32)        896       \n",
            "_________________________________________________________________\n",
            "conv2d_1 (Conv2D)            (None, 32, 32, 32)        9248      \n",
            "_________________________________________________________________\n",
            "max_pooling2d (MaxPooling2D) (None, 16, 16, 32)        0         \n",
            "_________________________________________________________________\n",
            "conv2d_2 (Conv2D)            (None, 16, 16, 48)        13872     \n",
            "_________________________________________________________________\n",
            "max_pooling2d_1 (MaxPooling2 (None, 8, 8, 48)          0         \n",
            "_________________________________________________________________\n",
            "conv2d_3 (Conv2D)            (None, 8, 8, 64)          27712     \n",
            "_________________________________________________________________\n",
            "max_pooling2d_2 (MaxPooling2 (None, 4, 4, 64)          0         \n",
            "_________________________________________________________________\n",
            "flatten (Flatten)            (None, 1024)              0         \n",
            "_________________________________________________________________\n",
            "dense (Dense)                (None, 128)               131200    \n",
            "_________________________________________________________________\n",
            "dense_1 (Dense)              (None, 10)                1290      \n",
            "=================================================================\n",
            "Total params: 184,218\n",
            "Trainable params: 184,218\n",
            "Non-trainable params: 0\n",
            "_________________________________________________________________\n"
          ],
          "name": "stdout"
        }
      ]
    },
    {
      "cell_type": "code",
      "metadata": {
        "id": "bUTLlQuU78Oa",
        "colab_type": "code",
        "colab": {
          "base_uri": "https://localhost:8080/",
          "height": 370
        },
        "outputId": "b020976e-8c46-49a3-fb80-f97a67afd8a2"
      },
      "source": [
        "model.fit(X_train,Y_train,epochs=10)"
      ],
      "execution_count": 29,
      "outputs": [
        {
          "output_type": "stream",
          "text": [
            "Epoch 1/10\n",
            "1563/1563 [==============================] - 180s 115ms/step - loss: 1.4409 - sparse_categorical_accuracy: 0.4770\n",
            "Epoch 2/10\n",
            "1563/1563 [==============================] - 184s 118ms/step - loss: 0.9673 - sparse_categorical_accuracy: 0.6600\n",
            "Epoch 3/10\n",
            "1563/1563 [==============================] - 181s 116ms/step - loss: 0.7983 - sparse_categorical_accuracy: 0.7189\n",
            "Epoch 4/10\n",
            "1563/1563 [==============================] - 182s 116ms/step - loss: 0.6968 - sparse_categorical_accuracy: 0.7570\n",
            "Epoch 5/10\n",
            "1563/1563 [==============================] - 184s 118ms/step - loss: 0.6154 - sparse_categorical_accuracy: 0.7836\n",
            "Epoch 6/10\n",
            "1563/1563 [==============================] - 180s 115ms/step - loss: 0.5538 - sparse_categorical_accuracy: 0.8040\n",
            "Epoch 7/10\n",
            "1563/1563 [==============================] - 179s 114ms/step - loss: 0.4933 - sparse_categorical_accuracy: 0.8253\n",
            "Epoch 8/10\n",
            "1563/1563 [==============================] - 179s 115ms/step - loss: 0.4470 - sparse_categorical_accuracy: 0.8422\n",
            "Epoch 9/10\n",
            "1563/1563 [==============================] - 179s 115ms/step - loss: 0.3968 - sparse_categorical_accuracy: 0.8590\n",
            "Epoch 10/10\n",
            "1563/1563 [==============================] - 179s 115ms/step - loss: 0.3609 - sparse_categorical_accuracy: 0.8709\n"
          ],
          "name": "stdout"
        },
        {
          "output_type": "execute_result",
          "data": {
            "text/plain": [
              "<tensorflow.python.keras.callbacks.History at 0x7f24f3c98128>"
            ]
          },
          "metadata": {
            "tags": []
          },
          "execution_count": 29
        }
      ]
    },
    {
      "cell_type": "code",
      "metadata": {
        "id": "OosHkSa2Dt-M",
        "colab_type": "code",
        "colab": {
          "base_uri": "https://localhost:8080/",
          "height": 34
        },
        "outputId": "51686f83-2cf4-45d0-9f1b-d4b7c0be4a7e"
      },
      "source": [
        "test_loss, test_accuracy = model.evaluate(X_test,Y_test)"
      ],
      "execution_count": 30,
      "outputs": [
        {
          "output_type": "stream",
          "text": [
            "313/313 [==============================] - 9s 29ms/step - loss: 0.8352 - sparse_categorical_accuracy: 0.7518\n"
          ],
          "name": "stdout"
        }
      ]
    },
    {
      "cell_type": "code",
      "metadata": {
        "id": "7EfJ-HHvD4uM",
        "colab_type": "code",
        "colab": {
          "base_uri": "https://localhost:8080/",
          "height": 34
        },
        "outputId": "2d71a678-d55e-42fc-8ecf-f2c46a304127"
      },
      "source": [
        "print(\"Test accuracy: {}\".format(test_accuracy*100))"
      ],
      "execution_count": 31,
      "outputs": [
        {
          "output_type": "stream",
          "text": [
            "Test accuracy: 75.1800000667572\n"
          ],
          "name": "stdout"
        }
      ]
    }
  ]
}
