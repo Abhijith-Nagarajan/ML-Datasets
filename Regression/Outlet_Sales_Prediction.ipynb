{
 "cells": [
  {
   "cell_type": "markdown",
   "metadata": {},
   "source": [
    "### Sales Prediction "
   ]
  },
  {
   "cell_type": "markdown",
   "metadata": {},
   "source": [
    "### Importing the libraries and the dataset"
   ]
  },
  {
   "cell_type": "code",
   "execution_count": 1,
   "metadata": {},
   "outputs": [],
   "source": [
    "import pandas as pd\n",
    "import numpy as np\n",
    "import matplotlib.pyplot as plt\n",
    "import seaborn as sns"
   ]
  },
  {
   "cell_type": "code",
   "execution_count": 2,
   "metadata": {},
   "outputs": [],
   "source": [
    "sales_df = pd.read_csv(\"Train.csv\")"
   ]
  },
  {
   "cell_type": "markdown",
   "metadata": {},
   "source": [
    "\n",
    "\n",
    "\n",
    "\n",
    "\n",
    "### Performing EDA"
   ]
  },
  {
   "cell_type": "code",
   "execution_count": 3,
   "metadata": {},
   "outputs": [
    {
     "data": {
      "text/html": [
       "<div>\n",
       "<style scoped>\n",
       "    .dataframe tbody tr th:only-of-type {\n",
       "        vertical-align: middle;\n",
       "    }\n",
       "\n",
       "    .dataframe tbody tr th {\n",
       "        vertical-align: top;\n",
       "    }\n",
       "\n",
       "    .dataframe thead th {\n",
       "        text-align: right;\n",
       "    }\n",
       "</style>\n",
       "<table border=\"1\" class=\"dataframe\">\n",
       "  <thead>\n",
       "    <tr style=\"text-align: right;\">\n",
       "      <th></th>\n",
       "      <th>Item_Identifier</th>\n",
       "      <th>Item_Weight</th>\n",
       "      <th>Item_Fat_Content</th>\n",
       "      <th>Item_Visibility</th>\n",
       "      <th>Item_Type</th>\n",
       "      <th>Item_MRP</th>\n",
       "      <th>Outlet_Identifier</th>\n",
       "      <th>Outlet_Establishment_Year</th>\n",
       "      <th>Outlet_Size</th>\n",
       "      <th>Outlet_Location_Type</th>\n",
       "      <th>Outlet_Type</th>\n",
       "      <th>Item_Outlet_Sales</th>\n",
       "    </tr>\n",
       "  </thead>\n",
       "  <tbody>\n",
       "    <tr>\n",
       "      <th>0</th>\n",
       "      <td>FDA15</td>\n",
       "      <td>9.300</td>\n",
       "      <td>Low Fat</td>\n",
       "      <td>0.016047</td>\n",
       "      <td>Dairy</td>\n",
       "      <td>249.8092</td>\n",
       "      <td>OUT049</td>\n",
       "      <td>1999</td>\n",
       "      <td>Medium</td>\n",
       "      <td>Tier 1</td>\n",
       "      <td>Supermarket Type1</td>\n",
       "      <td>3735.1380</td>\n",
       "    </tr>\n",
       "    <tr>\n",
       "      <th>1</th>\n",
       "      <td>DRC01</td>\n",
       "      <td>5.920</td>\n",
       "      <td>Regular</td>\n",
       "      <td>0.019278</td>\n",
       "      <td>Soft Drinks</td>\n",
       "      <td>48.2692</td>\n",
       "      <td>OUT018</td>\n",
       "      <td>2009</td>\n",
       "      <td>Medium</td>\n",
       "      <td>Tier 3</td>\n",
       "      <td>Supermarket Type2</td>\n",
       "      <td>443.4228</td>\n",
       "    </tr>\n",
       "    <tr>\n",
       "      <th>2</th>\n",
       "      <td>FDN15</td>\n",
       "      <td>17.500</td>\n",
       "      <td>Low Fat</td>\n",
       "      <td>0.016760</td>\n",
       "      <td>Meat</td>\n",
       "      <td>141.6180</td>\n",
       "      <td>OUT049</td>\n",
       "      <td>1999</td>\n",
       "      <td>Medium</td>\n",
       "      <td>Tier 1</td>\n",
       "      <td>Supermarket Type1</td>\n",
       "      <td>2097.2700</td>\n",
       "    </tr>\n",
       "    <tr>\n",
       "      <th>3</th>\n",
       "      <td>FDX07</td>\n",
       "      <td>19.200</td>\n",
       "      <td>Regular</td>\n",
       "      <td>0.000000</td>\n",
       "      <td>Fruits and Vegetables</td>\n",
       "      <td>182.0950</td>\n",
       "      <td>OUT010</td>\n",
       "      <td>1998</td>\n",
       "      <td>NaN</td>\n",
       "      <td>Tier 3</td>\n",
       "      <td>Grocery Store</td>\n",
       "      <td>732.3800</td>\n",
       "    </tr>\n",
       "    <tr>\n",
       "      <th>4</th>\n",
       "      <td>NCD19</td>\n",
       "      <td>8.930</td>\n",
       "      <td>Low Fat</td>\n",
       "      <td>0.000000</td>\n",
       "      <td>Household</td>\n",
       "      <td>53.8614</td>\n",
       "      <td>OUT013</td>\n",
       "      <td>1987</td>\n",
       "      <td>High</td>\n",
       "      <td>Tier 3</td>\n",
       "      <td>Supermarket Type1</td>\n",
       "      <td>994.7052</td>\n",
       "    </tr>\n",
       "    <tr>\n",
       "      <th>5</th>\n",
       "      <td>FDP36</td>\n",
       "      <td>10.395</td>\n",
       "      <td>Regular</td>\n",
       "      <td>0.000000</td>\n",
       "      <td>Baking Goods</td>\n",
       "      <td>51.4008</td>\n",
       "      <td>OUT018</td>\n",
       "      <td>2009</td>\n",
       "      <td>Medium</td>\n",
       "      <td>Tier 3</td>\n",
       "      <td>Supermarket Type2</td>\n",
       "      <td>556.6088</td>\n",
       "    </tr>\n",
       "    <tr>\n",
       "      <th>6</th>\n",
       "      <td>FDO10</td>\n",
       "      <td>13.650</td>\n",
       "      <td>Regular</td>\n",
       "      <td>0.012741</td>\n",
       "      <td>Snack Foods</td>\n",
       "      <td>57.6588</td>\n",
       "      <td>OUT013</td>\n",
       "      <td>1987</td>\n",
       "      <td>High</td>\n",
       "      <td>Tier 3</td>\n",
       "      <td>Supermarket Type1</td>\n",
       "      <td>343.5528</td>\n",
       "    </tr>\n",
       "    <tr>\n",
       "      <th>7</th>\n",
       "      <td>FDP10</td>\n",
       "      <td>NaN</td>\n",
       "      <td>Low Fat</td>\n",
       "      <td>0.127470</td>\n",
       "      <td>Snack Foods</td>\n",
       "      <td>107.7622</td>\n",
       "      <td>OUT027</td>\n",
       "      <td>1985</td>\n",
       "      <td>Medium</td>\n",
       "      <td>Tier 3</td>\n",
       "      <td>Supermarket Type3</td>\n",
       "      <td>4022.7636</td>\n",
       "    </tr>\n",
       "    <tr>\n",
       "      <th>8</th>\n",
       "      <td>FDH17</td>\n",
       "      <td>16.200</td>\n",
       "      <td>Regular</td>\n",
       "      <td>0.016687</td>\n",
       "      <td>Frozen Foods</td>\n",
       "      <td>96.9726</td>\n",
       "      <td>OUT045</td>\n",
       "      <td>2002</td>\n",
       "      <td>NaN</td>\n",
       "      <td>Tier 2</td>\n",
       "      <td>Supermarket Type1</td>\n",
       "      <td>1076.5986</td>\n",
       "    </tr>\n",
       "    <tr>\n",
       "      <th>9</th>\n",
       "      <td>FDU28</td>\n",
       "      <td>19.200</td>\n",
       "      <td>Regular</td>\n",
       "      <td>0.094450</td>\n",
       "      <td>Frozen Foods</td>\n",
       "      <td>187.8214</td>\n",
       "      <td>OUT017</td>\n",
       "      <td>2007</td>\n",
       "      <td>NaN</td>\n",
       "      <td>Tier 2</td>\n",
       "      <td>Supermarket Type1</td>\n",
       "      <td>4710.5350</td>\n",
       "    </tr>\n",
       "    <tr>\n",
       "      <th>10</th>\n",
       "      <td>FDY07</td>\n",
       "      <td>11.800</td>\n",
       "      <td>Low Fat</td>\n",
       "      <td>0.000000</td>\n",
       "      <td>Fruits and Vegetables</td>\n",
       "      <td>45.5402</td>\n",
       "      <td>OUT049</td>\n",
       "      <td>1999</td>\n",
       "      <td>Medium</td>\n",
       "      <td>Tier 1</td>\n",
       "      <td>Supermarket Type1</td>\n",
       "      <td>1516.0266</td>\n",
       "    </tr>\n",
       "    <tr>\n",
       "      <th>11</th>\n",
       "      <td>FDA03</td>\n",
       "      <td>18.500</td>\n",
       "      <td>Regular</td>\n",
       "      <td>0.045464</td>\n",
       "      <td>Dairy</td>\n",
       "      <td>144.1102</td>\n",
       "      <td>OUT046</td>\n",
       "      <td>1997</td>\n",
       "      <td>Small</td>\n",
       "      <td>Tier 1</td>\n",
       "      <td>Supermarket Type1</td>\n",
       "      <td>2187.1530</td>\n",
       "    </tr>\n",
       "    <tr>\n",
       "      <th>12</th>\n",
       "      <td>FDX32</td>\n",
       "      <td>15.100</td>\n",
       "      <td>Regular</td>\n",
       "      <td>0.100014</td>\n",
       "      <td>Fruits and Vegetables</td>\n",
       "      <td>145.4786</td>\n",
       "      <td>OUT049</td>\n",
       "      <td>1999</td>\n",
       "      <td>Medium</td>\n",
       "      <td>Tier 1</td>\n",
       "      <td>Supermarket Type1</td>\n",
       "      <td>1589.2646</td>\n",
       "    </tr>\n",
       "    <tr>\n",
       "      <th>13</th>\n",
       "      <td>FDS46</td>\n",
       "      <td>17.600</td>\n",
       "      <td>Regular</td>\n",
       "      <td>0.047257</td>\n",
       "      <td>Snack Foods</td>\n",
       "      <td>119.6782</td>\n",
       "      <td>OUT046</td>\n",
       "      <td>1997</td>\n",
       "      <td>Small</td>\n",
       "      <td>Tier 1</td>\n",
       "      <td>Supermarket Type1</td>\n",
       "      <td>2145.2076</td>\n",
       "    </tr>\n",
       "    <tr>\n",
       "      <th>14</th>\n",
       "      <td>FDF32</td>\n",
       "      <td>16.350</td>\n",
       "      <td>Low Fat</td>\n",
       "      <td>0.068024</td>\n",
       "      <td>Fruits and Vegetables</td>\n",
       "      <td>196.4426</td>\n",
       "      <td>OUT013</td>\n",
       "      <td>1987</td>\n",
       "      <td>High</td>\n",
       "      <td>Tier 3</td>\n",
       "      <td>Supermarket Type1</td>\n",
       "      <td>1977.4260</td>\n",
       "    </tr>\n",
       "  </tbody>\n",
       "</table>\n",
       "</div>"
      ],
      "text/plain": [
       "   Item_Identifier  Item_Weight Item_Fat_Content  Item_Visibility  \\\n",
       "0            FDA15        9.300          Low Fat         0.016047   \n",
       "1            DRC01        5.920          Regular         0.019278   \n",
       "2            FDN15       17.500          Low Fat         0.016760   \n",
       "3            FDX07       19.200          Regular         0.000000   \n",
       "4            NCD19        8.930          Low Fat         0.000000   \n",
       "5            FDP36       10.395          Regular         0.000000   \n",
       "6            FDO10       13.650          Regular         0.012741   \n",
       "7            FDP10          NaN          Low Fat         0.127470   \n",
       "8            FDH17       16.200          Regular         0.016687   \n",
       "9            FDU28       19.200          Regular         0.094450   \n",
       "10           FDY07       11.800          Low Fat         0.000000   \n",
       "11           FDA03       18.500          Regular         0.045464   \n",
       "12           FDX32       15.100          Regular         0.100014   \n",
       "13           FDS46       17.600          Regular         0.047257   \n",
       "14           FDF32       16.350          Low Fat         0.068024   \n",
       "\n",
       "                Item_Type  Item_MRP Outlet_Identifier  \\\n",
       "0                   Dairy  249.8092            OUT049   \n",
       "1             Soft Drinks   48.2692            OUT018   \n",
       "2                    Meat  141.6180            OUT049   \n",
       "3   Fruits and Vegetables  182.0950            OUT010   \n",
       "4               Household   53.8614            OUT013   \n",
       "5            Baking Goods   51.4008            OUT018   \n",
       "6             Snack Foods   57.6588            OUT013   \n",
       "7             Snack Foods  107.7622            OUT027   \n",
       "8            Frozen Foods   96.9726            OUT045   \n",
       "9            Frozen Foods  187.8214            OUT017   \n",
       "10  Fruits and Vegetables   45.5402            OUT049   \n",
       "11                  Dairy  144.1102            OUT046   \n",
       "12  Fruits and Vegetables  145.4786            OUT049   \n",
       "13            Snack Foods  119.6782            OUT046   \n",
       "14  Fruits and Vegetables  196.4426            OUT013   \n",
       "\n",
       "    Outlet_Establishment_Year Outlet_Size Outlet_Location_Type  \\\n",
       "0                        1999      Medium               Tier 1   \n",
       "1                        2009      Medium               Tier 3   \n",
       "2                        1999      Medium               Tier 1   \n",
       "3                        1998         NaN               Tier 3   \n",
       "4                        1987        High               Tier 3   \n",
       "5                        2009      Medium               Tier 3   \n",
       "6                        1987        High               Tier 3   \n",
       "7                        1985      Medium               Tier 3   \n",
       "8                        2002         NaN               Tier 2   \n",
       "9                        2007         NaN               Tier 2   \n",
       "10                       1999      Medium               Tier 1   \n",
       "11                       1997       Small               Tier 1   \n",
       "12                       1999      Medium               Tier 1   \n",
       "13                       1997       Small               Tier 1   \n",
       "14                       1987        High               Tier 3   \n",
       "\n",
       "          Outlet_Type  Item_Outlet_Sales  \n",
       "0   Supermarket Type1          3735.1380  \n",
       "1   Supermarket Type2           443.4228  \n",
       "2   Supermarket Type1          2097.2700  \n",
       "3       Grocery Store           732.3800  \n",
       "4   Supermarket Type1           994.7052  \n",
       "5   Supermarket Type2           556.6088  \n",
       "6   Supermarket Type1           343.5528  \n",
       "7   Supermarket Type3          4022.7636  \n",
       "8   Supermarket Type1          1076.5986  \n",
       "9   Supermarket Type1          4710.5350  \n",
       "10  Supermarket Type1          1516.0266  \n",
       "11  Supermarket Type1          2187.1530  \n",
       "12  Supermarket Type1          1589.2646  \n",
       "13  Supermarket Type1          2145.2076  \n",
       "14  Supermarket Type1          1977.4260  "
      ]
     },
     "execution_count": 3,
     "metadata": {},
     "output_type": "execute_result"
    }
   ],
   "source": [
    "sales_df.head(15)"
   ]
  },
  {
   "cell_type": "code",
   "execution_count": 4,
   "metadata": {},
   "outputs": [
    {
     "name": "stdout",
     "output_type": "stream",
     "text": [
      "<class 'pandas.core.frame.DataFrame'>\n",
      "RangeIndex: 8523 entries, 0 to 8522\n",
      "Data columns (total 12 columns):\n",
      " #   Column                     Non-Null Count  Dtype  \n",
      "---  ------                     --------------  -----  \n",
      " 0   Item_Identifier            8523 non-null   object \n",
      " 1   Item_Weight                7060 non-null   float64\n",
      " 2   Item_Fat_Content           8523 non-null   object \n",
      " 3   Item_Visibility            8523 non-null   float64\n",
      " 4   Item_Type                  8523 non-null   object \n",
      " 5   Item_MRP                   8523 non-null   float64\n",
      " 6   Outlet_Identifier          8523 non-null   object \n",
      " 7   Outlet_Establishment_Year  8523 non-null   int64  \n",
      " 8   Outlet_Size                6113 non-null   object \n",
      " 9   Outlet_Location_Type       8523 non-null   object \n",
      " 10  Outlet_Type                8523 non-null   object \n",
      " 11  Item_Outlet_Sales          8523 non-null   float64\n",
      "dtypes: float64(4), int64(1), object(7)\n",
      "memory usage: 799.2+ KB\n"
     ]
    }
   ],
   "source": [
    "sales_df.info()"
   ]
  },
  {
   "cell_type": "code",
   "execution_count": 5,
   "metadata": {},
   "outputs": [
    {
     "name": "stdout",
     "output_type": "stream",
     "text": [
      "Shape of the dataset:  (8523, 12)\n"
     ]
    }
   ],
   "source": [
    "print(\"Shape of the dataset: \",np.shape(sales_df))"
   ]
  },
  {
   "cell_type": "markdown",
   "metadata": {},
   "source": [
    "### Exploring missing values"
   ]
  },
  {
   "cell_type": "code",
   "execution_count": 6,
   "metadata": {},
   "outputs": [
    {
     "data": {
      "text/plain": [
       "Item_Identifier                 0\n",
       "Item_Weight                  1463\n",
       "Item_Fat_Content                0\n",
       "Item_Visibility                 0\n",
       "Item_Type                       0\n",
       "Item_MRP                        0\n",
       "Outlet_Identifier               0\n",
       "Outlet_Establishment_Year       0\n",
       "Outlet_Size                  2410\n",
       "Outlet_Location_Type            0\n",
       "Outlet_Type                     0\n",
       "Item_Outlet_Sales               0\n",
       "dtype: int64"
      ]
     },
     "execution_count": 6,
     "metadata": {},
     "output_type": "execute_result"
    }
   ],
   "source": [
    "sales_df.isnull().sum()"
   ]
  },
  {
   "cell_type": "code",
   "execution_count": 7,
   "metadata": {},
   "outputs": [],
   "source": [
    "\n",
    "\n",
    "\n",
    "\n",
    "# Calculating missing data  \n",
    "total_missing = sales_df.isnull().sum().sort_values(ascending=False)\n",
    "percent_missing = sales_df.isnull().sum()/sales_df.isnull().count().sort_values(ascending=False)\n",
    "missing_data = pd.concat([total_missing,percent_missing], axis=1, keys=[\"Total\",\"Percent missing\"])"
   ]
  },
  {
   "cell_type": "code",
   "execution_count": 8,
   "metadata": {},
   "outputs": [
    {
     "data": {
      "text/html": [
       "<div>\n",
       "<style scoped>\n",
       "    .dataframe tbody tr th:only-of-type {\n",
       "        vertical-align: middle;\n",
       "    }\n",
       "\n",
       "    .dataframe tbody tr th {\n",
       "        vertical-align: top;\n",
       "    }\n",
       "\n",
       "    .dataframe thead th {\n",
       "        text-align: right;\n",
       "    }\n",
       "</style>\n",
       "<table border=\"1\" class=\"dataframe\">\n",
       "  <thead>\n",
       "    <tr style=\"text-align: right;\">\n",
       "      <th></th>\n",
       "      <th>Total</th>\n",
       "      <th>Percent missing</th>\n",
       "    </tr>\n",
       "  </thead>\n",
       "  <tbody>\n",
       "    <tr>\n",
       "      <th>Outlet_Size</th>\n",
       "      <td>2410</td>\n",
       "      <td>0.282764</td>\n",
       "    </tr>\n",
       "    <tr>\n",
       "      <th>Item_Weight</th>\n",
       "      <td>1463</td>\n",
       "      <td>0.171653</td>\n",
       "    </tr>\n",
       "    <tr>\n",
       "      <th>Item_Outlet_Sales</th>\n",
       "      <td>0</td>\n",
       "      <td>0.000000</td>\n",
       "    </tr>\n",
       "    <tr>\n",
       "      <th>Outlet_Type</th>\n",
       "      <td>0</td>\n",
       "      <td>0.000000</td>\n",
       "    </tr>\n",
       "    <tr>\n",
       "      <th>Outlet_Location_Type</th>\n",
       "      <td>0</td>\n",
       "      <td>0.000000</td>\n",
       "    </tr>\n",
       "  </tbody>\n",
       "</table>\n",
       "</div>"
      ],
      "text/plain": [
       "                      Total  Percent missing\n",
       "Outlet_Size            2410         0.282764\n",
       "Item_Weight            1463         0.171653\n",
       "Item_Outlet_Sales         0         0.000000\n",
       "Outlet_Type               0         0.000000\n",
       "Outlet_Location_Type      0         0.000000"
      ]
     },
     "execution_count": 8,
     "metadata": {},
     "output_type": "execute_result"
    },
    {
     "data": {
      "image/png": "[encoded data removed]",
      "text/plain": [
       "<Figure size 1080x432 with 1 Axes>"
      ]
     },
     "metadata": {
      "needs_background": "light"
     },
     "output_type": "display_data"
    }
   ],
   "source": [
    "# Plotting the missing data\n",
    "f,ax = plt.subplots(figsize=(15,6))\n",
    "plt.xticks(rotation='90')\n",
    "sns.barplot(x=missing_data.index, y=missing_data['Percent missing'],palette=\"Blues_d\")\n",
    "plt.xlabel('Features', fontsize=15)\n",
    "plt.ylabel('Percent of Missing Values', fontsize=15)\n",
    "plt.title('Percentage of Missing Data by Feature', fontsize=15)\n",
    "missing_data.head()"
   ]
  },
  {
   "cell_type": "markdown",
   "metadata": {},
   "source": [
    "### Filling missing values for Outlet_Size and Item_Weight"
   ]
  },
  {
   "cell_type": "markdown",
   "metadata": {},
   "source": [
    "#### Before filling missing values for Item_Weight, let us replace reg with Regular and LF with Low Fat in the Item_Identifier column "
   ]
  },
  {
   "cell_type": "code",
   "execution_count": 9,
   "metadata": {},
   "outputs": [
    {
     "name": "stdout",
     "output_type": "stream",
     "text": [
      "['Low Fat' 'Regular' 'low fat' 'LF' 'reg']\n",
      "['Low Fat' 'Regular']\n"
     ]
    }
   ],
   "source": [
    "print(sales_df['Item_Fat_Content'].unique())\n",
    "sales_item = sales_df['Item_Fat_Content']\n",
    "sales_item = sales_item.replace({\"reg\":\"Regular\",\"LF\":\"Low Fat\",\"low fat\":\"Low Fat\"})\n",
    "print(sales_item.unique())\n",
    "sales_df['Item_Fat_Content'] = sales_item"
   ]
  },
  {
   "cell_type": "code",
   "execution_count": 10,
   "metadata": {},
   "outputs": [],
   "source": [
    "sales_df[\"Item_Weight\"] = sales_df[\"Item_Weight\"].fillna(sales_df.groupby(['Item_Identifier','Item_Fat_Content','Item_Type'])['Item_Weight'].transform('mean'))"
   ]
  },
  {
   "cell_type": "code",
   "execution_count": 11,
   "metadata": {},
   "outputs": [
    {
     "data": {
      "text/plain": [
       "Item_Identifier                 0\n",
       "Item_Weight                     4\n",
       "Item_Fat_Content                0\n",
       "Item_Visibility                 0\n",
       "Item_Type                       0\n",
       "Item_MRP                        0\n",
       "Outlet_Identifier               0\n",
       "Outlet_Establishment_Year       0\n",
       "Outlet_Size                  2410\n",
       "Outlet_Location_Type            0\n",
       "Outlet_Type                     0\n",
       "Item_Outlet_Sales               0\n",
       "dtype: int64"
      ]
     },
     "execution_count": 11,
     "metadata": {},
     "output_type": "execute_result"
    }
   ],
   "source": [
    "sales_df.isnull().sum()"
   ]
  },
  {
   "cell_type": "code",
   "execution_count": 12,
   "metadata": {},
   "outputs": [],
   "source": [
    "sales_df[\"Outlet_Size\"].fillna(sales_df[\"Outlet_Size\"].mode()[0],inplace=True)"
   ]
  },
  {
   "cell_type": "code",
   "execution_count": 13,
   "metadata": {},
   "outputs": [
    {
     "data": {
      "text/plain": [
       "Item_Identifier              0\n",
       "Item_Weight                  4\n",
       "Item_Fat_Content             0\n",
       "Item_Visibility              0\n",
       "Item_Type                    0\n",
       "Item_MRP                     0\n",
       "Outlet_Identifier            0\n",
       "Outlet_Establishment_Year    0\n",
       "Outlet_Size                  0\n",
       "Outlet_Location_Type         0\n",
       "Outlet_Type                  0\n",
       "Item_Outlet_Sales            0\n",
       "dtype: int64"
      ]
     },
     "execution_count": 13,
     "metadata": {},
     "output_type": "execute_result"
    }
   ],
   "source": [
    "sales_df.isnull().sum()"
   ]
  },
  {
   "cell_type": "markdown",
   "metadata": {},
   "source": [
    "#### Considering that we have only 4 missing values in Item_weight, we can remove those rows"
   ]
  },
  {
   "cell_type": "code",
   "execution_count": 14,
   "metadata": {},
   "outputs": [
    {
     "data": {
      "text/plain": [
       "Item_Identifier              0\n",
       "Item_Weight                  0\n",
       "Item_Fat_Content             0\n",
       "Item_Visibility              0\n",
       "Item_Type                    0\n",
       "Item_MRP                     0\n",
       "Outlet_Identifier            0\n",
       "Outlet_Establishment_Year    0\n",
       "Outlet_Size                  0\n",
       "Outlet_Location_Type         0\n",
       "Outlet_Type                  0\n",
       "Item_Outlet_Sales            0\n",
       "dtype: int64"
      ]
     },
     "execution_count": 14,
     "metadata": {},
     "output_type": "execute_result"
    }
   ],
   "source": [
    "sales_df = sales_df.dropna()\n",
    "sales_df.isnull().sum()"
   ]
  },
  {
   "cell_type": "code",
   "execution_count": 15,
   "metadata": {},
   "outputs": [
    {
     "name": "stdout",
     "output_type": "stream",
     "text": [
      "Shape of dataset after dropping values:  (8519, 12)\n"
     ]
    }
   ],
   "source": [
    "print(\"Shape of dataset after dropping values: \",np.shape(sales_df))"
   ]
  },
  {
   "cell_type": "markdown",
   "metadata": {},
   "source": [
    "### Before we encode categorical data, let us explore the correlation of independent variables wrt the target to remove certain columns\n",
    "- This can be achieved by plotting a heatmap of correlation "
   ]
  },
  {
   "cell_type": "code",
   "execution_count": 16,
   "metadata": {},
   "outputs": [
    {
     "name": "stdout",
     "output_type": "stream",
     "text": [
      "Statistical information of the dataset: \n",
      "        Item_Weight  Item_Visibility     Item_MRP  Outlet_Establishment_Year  \\\n",
      "count  8519.000000      8519.000000  8519.000000                8519.000000   \n",
      "mean     12.875420         0.066112   141.010019                1997.837892   \n",
      "std       4.646098         0.051586    62.283594                   8.369105   \n",
      "min       4.555000         0.000000    31.290000                1985.000000   \n",
      "25%       8.785000         0.026983    93.844900                1987.000000   \n",
      "50%      12.650000         0.053925   143.047000                1999.000000   \n",
      "75%      16.850000         0.094558   185.676600                2004.000000   \n",
      "max      21.350000         0.328391   266.888400                2009.000000   \n",
      "\n",
      "       Item_Outlet_Sales  \n",
      "count        8519.000000  \n",
      "mean         2181.188779  \n",
      "std          1706.511093  \n",
      "min            33.290000  \n",
      "25%           834.247400  \n",
      "50%          1794.331000  \n",
      "75%          3100.630600  \n",
      "max         13086.964800  \n",
      "<class 'pandas.core.frame.DataFrame'>\n",
      "Int64Index: 8519 entries, 0 to 8522\n",
      "Data columns (total 12 columns):\n",
      " #   Column                     Non-Null Count  Dtype  \n",
      "---  ------                     --------------  -----  \n",
      " 0   Item_Identifier            8519 non-null   object \n",
      " 1   Item_Weight                8519 non-null   float64\n",
      " 2   Item_Fat_Content           8519 non-null   object \n",
      " 3   Item_Visibility            8519 non-null   float64\n",
      " 4   Item_Type                  8519 non-null   object \n",
      " 5   Item_MRP                   8519 non-null   float64\n",
      " 6   Outlet_Identifier          8519 non-null   object \n",
      " 7   Outlet_Establishment_Year  8519 non-null   int64  \n",
      " 8   Outlet_Size                8519 non-null   object \n",
      " 9   Outlet_Location_Type       8519 non-null   object \n",
      " 10  Outlet_Type                8519 non-null   object \n",
      " 11  Item_Outlet_Sales          8519 non-null   float64\n",
      "dtypes: float64(4), int64(1), object(7)\n",
      "memory usage: 865.2+ KB\n",
      "Feature information of the dataset: \n",
      " None\n"
     ]
    }
   ],
   "source": [
    "print(\"Statistical information of the dataset: \\n\",sales_df.describe())\n",
    "print(\"Feature information of the dataset: \\n\",sales_df.info())"
   ]
  },
  {
   "cell_type": "code",
   "execution_count": 17,
   "metadata": {},
   "outputs": [
    {
     "data": {
      "text/plain": [
       "<matplotlib.axes._subplots.AxesSubplot at 0x23d4ab3c848>"
      ]
     },
     "execution_count": 17,
     "metadata": {},
     "output_type": "execute_result"
    },
    {
     "data": {
      "image/png": "[encoded data removed]",
      "text/plain": [
       "<Figure size 432x288 with 2 Axes>"
      ]
     },
     "metadata": {
      "needs_background": "light"
     },
     "output_type": "display_data"
    }
   ],
   "source": [
    "sns.heatmap(sales_df.corr(),center=0)"
   ]
  },
  {
   "cell_type": "code",
   "execution_count": 18,
   "metadata": {},
   "outputs": [
    {
     "data": {
      "text/plain": [
       "Text(0.5, 1.0, 'Scatterplot for Item Weight vs Item Outlet Sales')"
      ]
     },
     "execution_count": 18,
     "metadata": {},
     "output_type": "execute_result"
    },
    {
     "data": {
      "image/png": "[encoded data removed]",
      "text/plain": [
       "<Figure size 432x288 with 1 Axes>"
      ]
     },
     "metadata": {
      "needs_background": "light"
     },
     "output_type": "display_data"
    }
   ],
   "source": [
    "plt.scatter(x=sales_df[\"Item_Weight\"],y=sales_df['Item_Outlet_Sales'],c='red')\n",
    "plt.xlabel(\"Item Weight\")\n",
    "plt.ylabel(\"Item Outlet Sales\")\n",
    "plt.title(\"Scatterplot for Item Weight vs Item Outlet Sales\")"
   ]
  },
  {
   "cell_type": "code",
   "execution_count": 19,
   "metadata": {},
   "outputs": [
    {
     "data": {
      "text/plain": [
       "Text(0.5, 1.0, 'Scatterplot for Item Visibility vs Item Outlet Sales')"
      ]
     },
     "execution_count": 19,
     "metadata": {},
     "output_type": "execute_result"
    },
    {
     "data": {
      "image/png": "[encoded data removed]",
      "text/plain": [
       "<Figure size 432x288 with 1 Axes>"
      ]
     },
     "metadata": {
      "needs_background": "light"
     },
     "output_type": "display_data"
    }
   ],
   "source": [
    "plt.scatter(x=sales_df[\"Item_Visibility\"],y=sales_df['Item_Outlet_Sales'],c='blue')\n",
    "plt.xlabel(\"Item Visibility\")\n",
    "plt.ylabel(\"Item Outlet Sales\")\n",
    "plt.title(\"Scatterplot for Item Visibility vs Item Outlet Sales\")"
   ]
  },
  {
   "cell_type": "code",
   "execution_count": 20,
   "metadata": {},
   "outputs": [
    {
     "data": {
      "text/plain": [
       "Text(0.5, 1.0, 'Scatterplot for Item MRP vs Item Outlet Sales')"
      ]
     },
     "execution_count": 20,
     "metadata": {},
     "output_type": "execute_result"
    },
    {
     "data": {
      "image/png": "[encoded data removed]",
      "text/plain": [
       "<Figure size 432x288 with 1 Axes>"
      ]
     },
     "metadata": {
      "needs_background": "light"
     },
     "output_type": "display_data"
    }
   ],
   "source": [
    "plt.scatter(x=sales_df[\"Item_MRP\"],y=sales_df['Item_Outlet_Sales'],c='yellow')\n",
    "plt.xlabel(\"Item MRP\")\n",
    "plt.ylabel(\"Item Outlet Sales\")\n",
    "plt.title(\"Scatterplot for Item MRP vs Item Outlet Sales\")"
   ]
  },
  {
   "cell_type": "code",
   "execution_count": 21,
   "metadata": {},
   "outputs": [
    {
     "data": {
      "text/plain": [
       "Text(0.5, 1.0, 'Scatterplot for year of establishment vs Item Outlet Sales')"
      ]
     },
     "execution_count": 21,
     "metadata": {},
     "output_type": "execute_result"
    },
    {
     "data": {
      "image/png": "[encoded data removed]",
      "text/plain": [
       "<Figure size 432x288 with 1 Axes>"
      ]
     },
     "metadata": {
      "needs_background": "light"
     },
     "output_type": "display_data"
    }
   ],
   "source": [
    "plt.scatter(x=sales_df[\"Outlet_Establishment_Year\"],y=sales_df['Item_Outlet_Sales'],c='black')\n",
    "plt.xlabel(\"Outlet year of establishment \")\n",
    "plt.ylabel(\"Item Outlet Sales\")\n",
    "plt.title(\"Scatterplot for year of establishment vs Item Outlet Sales\")"
   ]
  },
  {
   "cell_type": "markdown",
   "metadata": {},
   "source": [
    "### As it's evident from the scatterplots, apart from Item_MRP, no other column is correlated to the target variable. Therefore, let us encode categorical data to see which columns influence the target\n"
   ]
  },
  {
   "cell_type": "code",
   "execution_count": 22,
   "metadata": {},
   "outputs": [],
   "source": [
    "# Let us start with our Outlet_Size variable and Item_Fat_Content. Being ordinal is nature, we can use one Label Encoding\n",
    "from sklearn.preprocessing import OneHotEncoder, LabelEncoder\n",
    "labelencoder = LabelEncoder()\n",
    "sales_df[\"Outlet_Size\"] = labelencoder.fit_transform(sales_df[\"Outlet_Size\"])\n",
    "sales_df[\"Item_Fat_Content\"] = labelencoder.fit_transform(sales_df[\"Item_Fat_Content\"])"
   ]
  },
  {
   "cell_type": "code",
   "execution_count": 23,
   "metadata": {},
   "outputs": [
    {
     "data": {
      "text/html": [
       "<div>\n",
       "<style scoped>\n",
       "    .dataframe tbody tr th:only-of-type {\n",
       "        vertical-align: middle;\n",
       "    }\n",
       "\n",
       "    .dataframe tbody tr th {\n",
       "        vertical-align: top;\n",
       "    }\n",
       "\n",
       "    .dataframe thead th {\n",
       "        text-align: right;\n",
       "    }\n",
       "</style>\n",
       "<table border=\"1\" class=\"dataframe\">\n",
       "  <thead>\n",
       "    <tr style=\"text-align: right;\">\n",
       "      <th></th>\n",
       "      <th>Item_Identifier</th>\n",
       "      <th>Item_Weight</th>\n",
       "      <th>Item_Fat_Content</th>\n",
       "      <th>Item_Visibility</th>\n",
       "      <th>Item_Type</th>\n",
       "      <th>Item_MRP</th>\n",
       "      <th>Outlet_Identifier</th>\n",
       "      <th>Outlet_Establishment_Year</th>\n",
       "      <th>Outlet_Size</th>\n",
       "      <th>Outlet_Location_Type</th>\n",
       "      <th>Outlet_Type</th>\n",
       "      <th>Item_Outlet_Sales</th>\n",
       "    </tr>\n",
       "  </thead>\n",
       "  <tbody>\n",
       "    <tr>\n",
       "      <th>0</th>\n",
       "      <td>FDA15</td>\n",
       "      <td>9.300</td>\n",
       "      <td>0</td>\n",
       "      <td>0.016047</td>\n",
       "      <td>Dairy</td>\n",
       "      <td>249.8092</td>\n",
       "      <td>OUT049</td>\n",
       "      <td>1999</td>\n",
       "      <td>1</td>\n",
       "      <td>Tier 1</td>\n",
       "      <td>Supermarket Type1</td>\n",
       "      <td>3735.1380</td>\n",
       "    </tr>\n",
       "    <tr>\n",
       "      <th>1</th>\n",
       "      <td>DRC01</td>\n",
       "      <td>5.920</td>\n",
       "      <td>1</td>\n",
       "      <td>0.019278</td>\n",
       "      <td>Soft Drinks</td>\n",
       "      <td>48.2692</td>\n",
       "      <td>OUT018</td>\n",
       "      <td>2009</td>\n",
       "      <td>1</td>\n",
       "      <td>Tier 3</td>\n",
       "      <td>Supermarket Type2</td>\n",
       "      <td>443.4228</td>\n",
       "    </tr>\n",
       "    <tr>\n",
       "      <th>2</th>\n",
       "      <td>FDN15</td>\n",
       "      <td>17.500</td>\n",
       "      <td>0</td>\n",
       "      <td>0.016760</td>\n",
       "      <td>Meat</td>\n",
       "      <td>141.6180</td>\n",
       "      <td>OUT049</td>\n",
       "      <td>1999</td>\n",
       "      <td>1</td>\n",
       "      <td>Tier 1</td>\n",
       "      <td>Supermarket Type1</td>\n",
       "      <td>2097.2700</td>\n",
       "    </tr>\n",
       "    <tr>\n",
       "      <th>3</th>\n",
       "      <td>FDX07</td>\n",
       "      <td>19.200</td>\n",
       "      <td>1</td>\n",
       "      <td>0.000000</td>\n",
       "      <td>Fruits and Vegetables</td>\n",
       "      <td>182.0950</td>\n",
       "      <td>OUT010</td>\n",
       "      <td>1998</td>\n",
       "      <td>1</td>\n",
       "      <td>Tier 3</td>\n",
       "      <td>Grocery Store</td>\n",
       "      <td>732.3800</td>\n",
       "    </tr>\n",
       "    <tr>\n",
       "      <th>4</th>\n",
       "      <td>NCD19</td>\n",
       "      <td>8.930</td>\n",
       "      <td>0</td>\n",
       "      <td>0.000000</td>\n",
       "      <td>Household</td>\n",
       "      <td>53.8614</td>\n",
       "      <td>OUT013</td>\n",
       "      <td>1987</td>\n",
       "      <td>0</td>\n",
       "      <td>Tier 3</td>\n",
       "      <td>Supermarket Type1</td>\n",
       "      <td>994.7052</td>\n",
       "    </tr>\n",
       "    <tr>\n",
       "      <th>...</th>\n",
       "      <td>...</td>\n",
       "      <td>...</td>\n",
       "      <td>...</td>\n",
       "      <td>...</td>\n",
       "      <td>...</td>\n",
       "      <td>...</td>\n",
       "      <td>...</td>\n",
       "      <td>...</td>\n",
       "      <td>...</td>\n",
       "      <td>...</td>\n",
       "      <td>...</td>\n",
       "      <td>...</td>\n",
       "    </tr>\n",
       "    <tr>\n",
       "      <th>8518</th>\n",
       "      <td>FDF22</td>\n",
       "      <td>6.865</td>\n",
       "      <td>0</td>\n",
       "      <td>0.056783</td>\n",
       "      <td>Snack Foods</td>\n",
       "      <td>214.5218</td>\n",
       "      <td>OUT013</td>\n",
       "      <td>1987</td>\n",
       "      <td>0</td>\n",
       "      <td>Tier 3</td>\n",
       "      <td>Supermarket Type1</td>\n",
       "      <td>2778.3834</td>\n",
       "    </tr>\n",
       "    <tr>\n",
       "      <th>8519</th>\n",
       "      <td>FDS36</td>\n",
       "      <td>8.380</td>\n",
       "      <td>1</td>\n",
       "      <td>0.046982</td>\n",
       "      <td>Baking Goods</td>\n",
       "      <td>108.1570</td>\n",
       "      <td>OUT045</td>\n",
       "      <td>2002</td>\n",
       "      <td>1</td>\n",
       "      <td>Tier 2</td>\n",
       "      <td>Supermarket Type1</td>\n",
       "      <td>549.2850</td>\n",
       "    </tr>\n",
       "    <tr>\n",
       "      <th>8520</th>\n",
       "      <td>NCJ29</td>\n",
       "      <td>10.600</td>\n",
       "      <td>0</td>\n",
       "      <td>0.035186</td>\n",
       "      <td>Health and Hygiene</td>\n",
       "      <td>85.1224</td>\n",
       "      <td>OUT035</td>\n",
       "      <td>2004</td>\n",
       "      <td>2</td>\n",
       "      <td>Tier 2</td>\n",
       "      <td>Supermarket Type1</td>\n",
       "      <td>1193.1136</td>\n",
       "    </tr>\n",
       "    <tr>\n",
       "      <th>8521</th>\n",
       "      <td>FDN46</td>\n",
       "      <td>7.210</td>\n",
       "      <td>1</td>\n",
       "      <td>0.145221</td>\n",
       "      <td>Snack Foods</td>\n",
       "      <td>103.1332</td>\n",
       "      <td>OUT018</td>\n",
       "      <td>2009</td>\n",
       "      <td>1</td>\n",
       "      <td>Tier 3</td>\n",
       "      <td>Supermarket Type2</td>\n",
       "      <td>1845.5976</td>\n",
       "    </tr>\n",
       "    <tr>\n",
       "      <th>8522</th>\n",
       "      <td>DRG01</td>\n",
       "      <td>14.800</td>\n",
       "      <td>0</td>\n",
       "      <td>0.044878</td>\n",
       "      <td>Soft Drinks</td>\n",
       "      <td>75.4670</td>\n",
       "      <td>OUT046</td>\n",
       "      <td>1997</td>\n",
       "      <td>2</td>\n",
       "      <td>Tier 1</td>\n",
       "      <td>Supermarket Type1</td>\n",
       "      <td>765.6700</td>\n",
       "    </tr>\n",
       "  </tbody>\n",
       "</table>\n",
       "<p>8519 rows × 12 columns</p>\n",
       "</div>"
      ],
      "text/plain": [
       "     Item_Identifier  Item_Weight  Item_Fat_Content  Item_Visibility  \\\n",
       "0              FDA15        9.300                 0         0.016047   \n",
       "1              DRC01        5.920                 1         0.019278   \n",
       "2              FDN15       17.500                 0         0.016760   \n",
       "3              FDX07       19.200                 1         0.000000   \n",
       "4              NCD19        8.930                 0         0.000000   \n",
       "...              ...          ...               ...              ...   \n",
       "8518           FDF22        6.865                 0         0.056783   \n",
       "8519           FDS36        8.380                 1         0.046982   \n",
       "8520           NCJ29       10.600                 0         0.035186   \n",
       "8521           FDN46        7.210                 1         0.145221   \n",
       "8522           DRG01       14.800                 0         0.044878   \n",
       "\n",
       "                  Item_Type  Item_MRP Outlet_Identifier  \\\n",
       "0                     Dairy  249.8092            OUT049   \n",
       "1               Soft Drinks   48.2692            OUT018   \n",
       "2                      Meat  141.6180            OUT049   \n",
       "3     Fruits and Vegetables  182.0950            OUT010   \n",
       "4                 Household   53.8614            OUT013   \n",
       "...                     ...       ...               ...   \n",
       "8518            Snack Foods  214.5218            OUT013   \n",
       "8519           Baking Goods  108.1570            OUT045   \n",
       "8520     Health and Hygiene   85.1224            OUT035   \n",
       "8521            Snack Foods  103.1332            OUT018   \n",
       "8522            Soft Drinks   75.4670            OUT046   \n",
       "\n",
       "      Outlet_Establishment_Year  Outlet_Size Outlet_Location_Type  \\\n",
       "0                          1999            1               Tier 1   \n",
       "1                          2009            1               Tier 3   \n",
       "2                          1999            1               Tier 1   \n",
       "3                          1998            1               Tier 3   \n",
       "4                          1987            0               Tier 3   \n",
       "...                         ...          ...                  ...   \n",
       "8518                       1987            0               Tier 3   \n",
       "8519                       2002            1               Tier 2   \n",
       "8520                       2004            2               Tier 2   \n",
       "8521                       2009            1               Tier 3   \n",
       "8522                       1997            2               Tier 1   \n",
       "\n",
       "            Outlet_Type  Item_Outlet_Sales  \n",
       "0     Supermarket Type1          3735.1380  \n",
       "1     Supermarket Type2           443.4228  \n",
       "2     Supermarket Type1          2097.2700  \n",
       "3         Grocery Store           732.3800  \n",
       "4     Supermarket Type1           994.7052  \n",
       "...                 ...                ...  \n",
       "8518  Supermarket Type1          2778.3834  \n",
       "8519  Supermarket Type1           549.2850  \n",
       "8520  Supermarket Type1          1193.1136  \n",
       "8521  Supermarket Type2          1845.5976  \n",
       "8522  Supermarket Type1           765.6700  \n",
       "\n",
       "[8519 rows x 12 columns]"
      ]
     },
     "execution_count": 23,
     "metadata": {},
     "output_type": "execute_result"
    }
   ],
   "source": [
    "sales_df"
   ]
  },
  {
   "cell_type": "code",
   "execution_count": 24,
   "metadata": {},
   "outputs": [],
   "source": [
    "sales_columns = ['Item_Type','Outlet_Location_Type','Outlet_Type']"
   ]
  },
  {
   "cell_type": "code",
   "execution_count": 25,
   "metadata": {},
   "outputs": [],
   "source": [
    "# Let us now consider nominal data such as Item_Type, Outlet_Location_Type, and Outlet_Type\n",
    "for feature in sales_columns:\n",
    "    sales_df_temp = sales_df[feature]\n",
    "    sales_df_temp = pd.get_dummies(sales_df_temp,columns=[feature],drop_first=True)\n",
    "    sales_df = sales_df.join(sales_df_temp)"
   ]
  },
  {
   "cell_type": "code",
   "execution_count": 26,
   "metadata": {},
   "outputs": [],
   "source": [
    "sales_df = sales_df.drop(['Item_Type','Outlet_Location_Type','Outlet_Type','Item_Identifier','Outlet_Identifier'],axis=1)"
   ]
  },
  {
   "cell_type": "code",
   "execution_count": 27,
   "metadata": {},
   "outputs": [
    {
     "data": {
      "text/html": [
       "<div>\n",
       "<style scoped>\n",
       "    .dataframe tbody tr th:only-of-type {\n",
       "        vertical-align: middle;\n",
       "    }\n",
       "\n",
       "    .dataframe tbody tr th {\n",
       "        vertical-align: top;\n",
       "    }\n",
       "\n",
       "    .dataframe thead th {\n",
       "        text-align: right;\n",
       "    }\n",
       "</style>\n",
       "<table border=\"1\" class=\"dataframe\">\n",
       "  <thead>\n",
       "    <tr style=\"text-align: right;\">\n",
       "      <th></th>\n",
       "      <th>Item_Weight</th>\n",
       "      <th>Item_Fat_Content</th>\n",
       "      <th>Item_Visibility</th>\n",
       "      <th>Item_MRP</th>\n",
       "      <th>Outlet_Establishment_Year</th>\n",
       "      <th>Outlet_Size</th>\n",
       "      <th>Item_Outlet_Sales</th>\n",
       "      <th>Breads</th>\n",
       "      <th>Breakfast</th>\n",
       "      <th>Canned</th>\n",
       "      <th>...</th>\n",
       "      <th>Others</th>\n",
       "      <th>Seafood</th>\n",
       "      <th>Snack Foods</th>\n",
       "      <th>Soft Drinks</th>\n",
       "      <th>Starchy Foods</th>\n",
       "      <th>Tier 2</th>\n",
       "      <th>Tier 3</th>\n",
       "      <th>Supermarket Type1</th>\n",
       "      <th>Supermarket Type2</th>\n",
       "      <th>Supermarket Type3</th>\n",
       "    </tr>\n",
       "  </thead>\n",
       "  <tbody>\n",
       "    <tr>\n",
       "      <th>0</th>\n",
       "      <td>9.300</td>\n",
       "      <td>0</td>\n",
       "      <td>0.016047</td>\n",
       "      <td>249.8092</td>\n",
       "      <td>1999</td>\n",
       "      <td>1</td>\n",
       "      <td>3735.1380</td>\n",
       "      <td>0</td>\n",
       "      <td>0</td>\n",
       "      <td>0</td>\n",
       "      <td>...</td>\n",
       "      <td>0</td>\n",
       "      <td>0</td>\n",
       "      <td>0</td>\n",
       "      <td>0</td>\n",
       "      <td>0</td>\n",
       "      <td>0</td>\n",
       "      <td>0</td>\n",
       "      <td>1</td>\n",
       "      <td>0</td>\n",
       "      <td>0</td>\n",
       "    </tr>\n",
       "    <tr>\n",
       "      <th>1</th>\n",
       "      <td>5.920</td>\n",
       "      <td>1</td>\n",
       "      <td>0.019278</td>\n",
       "      <td>48.2692</td>\n",
       "      <td>2009</td>\n",
       "      <td>1</td>\n",
       "      <td>443.4228</td>\n",
       "      <td>0</td>\n",
       "      <td>0</td>\n",
       "      <td>0</td>\n",
       "      <td>...</td>\n",
       "      <td>0</td>\n",
       "      <td>0</td>\n",
       "      <td>0</td>\n",
       "      <td>1</td>\n",
       "      <td>0</td>\n",
       "      <td>0</td>\n",
       "      <td>1</td>\n",
       "      <td>0</td>\n",
       "      <td>1</td>\n",
       "      <td>0</td>\n",
       "    </tr>\n",
       "    <tr>\n",
       "      <th>2</th>\n",
       "      <td>17.500</td>\n",
       "      <td>0</td>\n",
       "      <td>0.016760</td>\n",
       "      <td>141.6180</td>\n",
       "      <td>1999</td>\n",
       "      <td>1</td>\n",
       "      <td>2097.2700</td>\n",
       "      <td>0</td>\n",
       "      <td>0</td>\n",
       "      <td>0</td>\n",
       "      <td>...</td>\n",
       "      <td>0</td>\n",
       "      <td>0</td>\n",
       "      <td>0</td>\n",
       "      <td>0</td>\n",
       "      <td>0</td>\n",
       "      <td>0</td>\n",
       "      <td>0</td>\n",
       "      <td>1</td>\n",
       "      <td>0</td>\n",
       "      <td>0</td>\n",
       "    </tr>\n",
       "    <tr>\n",
       "      <th>3</th>\n",
       "      <td>19.200</td>\n",
       "      <td>1</td>\n",
       "      <td>0.000000</td>\n",
       "      <td>182.0950</td>\n",
       "      <td>1998</td>\n",
       "      <td>1</td>\n",
       "      <td>732.3800</td>\n",
       "      <td>0</td>\n",
       "      <td>0</td>\n",
       "      <td>0</td>\n",
       "      <td>...</td>\n",
       "      <td>0</td>\n",
       "      <td>0</td>\n",
       "      <td>0</td>\n",
       "      <td>0</td>\n",
       "      <td>0</td>\n",
       "      <td>0</td>\n",
       "      <td>1</td>\n",
       "      <td>0</td>\n",
       "      <td>0</td>\n",
       "      <td>0</td>\n",
       "    </tr>\n",
       "    <tr>\n",
       "      <th>4</th>\n",
       "      <td>8.930</td>\n",
       "      <td>0</td>\n",
       "      <td>0.000000</td>\n",
       "      <td>53.8614</td>\n",
       "      <td>1987</td>\n",
       "      <td>0</td>\n",
       "      <td>994.7052</td>\n",
       "      <td>0</td>\n",
       "      <td>0</td>\n",
       "      <td>0</td>\n",
       "      <td>...</td>\n",
       "      <td>0</td>\n",
       "      <td>0</td>\n",
       "      <td>0</td>\n",
       "      <td>0</td>\n",
       "      <td>0</td>\n",
       "      <td>0</td>\n",
       "      <td>1</td>\n",
       "      <td>1</td>\n",
       "      <td>0</td>\n",
       "      <td>0</td>\n",
       "    </tr>\n",
       "    <tr>\n",
       "      <th>...</th>\n",
       "      <td>...</td>\n",
       "      <td>...</td>\n",
       "      <td>...</td>\n",
       "      <td>...</td>\n",
       "      <td>...</td>\n",
       "      <td>...</td>\n",
       "      <td>...</td>\n",
       "      <td>...</td>\n",
       "      <td>...</td>\n",
       "      <td>...</td>\n",
       "      <td>...</td>\n",
       "      <td>...</td>\n",
       "      <td>...</td>\n",
       "      <td>...</td>\n",
       "      <td>...</td>\n",
       "      <td>...</td>\n",
       "      <td>...</td>\n",
       "      <td>...</td>\n",
       "      <td>...</td>\n",
       "      <td>...</td>\n",
       "      <td>...</td>\n",
       "    </tr>\n",
       "    <tr>\n",
       "      <th>8518</th>\n",
       "      <td>6.865</td>\n",
       "      <td>0</td>\n",
       "      <td>0.056783</td>\n",
       "      <td>214.5218</td>\n",
       "      <td>1987</td>\n",
       "      <td>0</td>\n",
       "      <td>2778.3834</td>\n",
       "      <td>0</td>\n",
       "      <td>0</td>\n",
       "      <td>0</td>\n",
       "      <td>...</td>\n",
       "      <td>0</td>\n",
       "      <td>0</td>\n",
       "      <td>1</td>\n",
       "      <td>0</td>\n",
       "      <td>0</td>\n",
       "      <td>0</td>\n",
       "      <td>1</td>\n",
       "      <td>1</td>\n",
       "      <td>0</td>\n",
       "      <td>0</td>\n",
       "    </tr>\n",
       "    <tr>\n",
       "      <th>8519</th>\n",
       "      <td>8.380</td>\n",
       "      <td>1</td>\n",
       "      <td>0.046982</td>\n",
       "      <td>108.1570</td>\n",
       "      <td>2002</td>\n",
       "      <td>1</td>\n",
       "      <td>549.2850</td>\n",
       "      <td>0</td>\n",
       "      <td>0</td>\n",
       "      <td>0</td>\n",
       "      <td>...</td>\n",
       "      <td>0</td>\n",
       "      <td>0</td>\n",
       "      <td>0</td>\n",
       "      <td>0</td>\n",
       "      <td>0</td>\n",
       "      <td>1</td>\n",
       "      <td>0</td>\n",
       "      <td>1</td>\n",
       "      <td>0</td>\n",
       "      <td>0</td>\n",
       "    </tr>\n",
       "    <tr>\n",
       "      <th>8520</th>\n",
       "      <td>10.600</td>\n",
       "      <td>0</td>\n",
       "      <td>0.035186</td>\n",
       "      <td>85.1224</td>\n",
       "      <td>2004</td>\n",
       "      <td>2</td>\n",
       "      <td>1193.1136</td>\n",
       "      <td>0</td>\n",
       "      <td>0</td>\n",
       "      <td>0</td>\n",
       "      <td>...</td>\n",
       "      <td>0</td>\n",
       "      <td>0</td>\n",
       "      <td>0</td>\n",
       "      <td>0</td>\n",
       "      <td>0</td>\n",
       "      <td>1</td>\n",
       "      <td>0</td>\n",
       "      <td>1</td>\n",
       "      <td>0</td>\n",
       "      <td>0</td>\n",
       "    </tr>\n",
       "    <tr>\n",
       "      <th>8521</th>\n",
       "      <td>7.210</td>\n",
       "      <td>1</td>\n",
       "      <td>0.145221</td>\n",
       "      <td>103.1332</td>\n",
       "      <td>2009</td>\n",
       "      <td>1</td>\n",
       "      <td>1845.5976</td>\n",
       "      <td>0</td>\n",
       "      <td>0</td>\n",
       "      <td>0</td>\n",
       "      <td>...</td>\n",
       "      <td>0</td>\n",
       "      <td>0</td>\n",
       "      <td>1</td>\n",
       "      <td>0</td>\n",
       "      <td>0</td>\n",
       "      <td>0</td>\n",
       "      <td>1</td>\n",
       "      <td>0</td>\n",
       "      <td>1</td>\n",
       "      <td>0</td>\n",
       "    </tr>\n",
       "    <tr>\n",
       "      <th>8522</th>\n",
       "      <td>14.800</td>\n",
       "      <td>0</td>\n",
       "      <td>0.044878</td>\n",
       "      <td>75.4670</td>\n",
       "      <td>1997</td>\n",
       "      <td>2</td>\n",
       "      <td>765.6700</td>\n",
       "      <td>0</td>\n",
       "      <td>0</td>\n",
       "      <td>0</td>\n",
       "      <td>...</td>\n",
       "      <td>0</td>\n",
       "      <td>0</td>\n",
       "      <td>0</td>\n",
       "      <td>1</td>\n",
       "      <td>0</td>\n",
       "      <td>0</td>\n",
       "      <td>0</td>\n",
       "      <td>1</td>\n",
       "      <td>0</td>\n",
       "      <td>0</td>\n",
       "    </tr>\n",
       "  </tbody>\n",
       "</table>\n",
       "<p>8519 rows × 27 columns</p>\n",
       "</div>"
      ],
      "text/plain": [
       "      Item_Weight  Item_Fat_Content  Item_Visibility  Item_MRP  \\\n",
       "0           9.300                 0         0.016047  249.8092   \n",
       "1           5.920                 1         0.019278   48.2692   \n",
       "2          17.500                 0         0.016760  141.6180   \n",
       "3          19.200                 1         0.000000  182.0950   \n",
       "4           8.930                 0         0.000000   53.8614   \n",
       "...           ...               ...              ...       ...   \n",
       "8518        6.865                 0         0.056783  214.5218   \n",
       "8519        8.380                 1         0.046982  108.1570   \n",
       "8520       10.600                 0         0.035186   85.1224   \n",
       "8521        7.210                 1         0.145221  103.1332   \n",
       "8522       14.800                 0         0.044878   75.4670   \n",
       "\n",
       "      Outlet_Establishment_Year  Outlet_Size  Item_Outlet_Sales  Breads  \\\n",
       "0                          1999            1          3735.1380       0   \n",
       "1                          2009            1           443.4228       0   \n",
       "2                          1999            1          2097.2700       0   \n",
       "3                          1998            1           732.3800       0   \n",
       "4                          1987            0           994.7052       0   \n",
       "...                         ...          ...                ...     ...   \n",
       "8518                       1987            0          2778.3834       0   \n",
       "8519                       2002            1           549.2850       0   \n",
       "8520                       2004            2          1193.1136       0   \n",
       "8521                       2009            1          1845.5976       0   \n",
       "8522                       1997            2           765.6700       0   \n",
       "\n",
       "      Breakfast  Canned  ...  Others  Seafood  Snack Foods  Soft Drinks  \\\n",
       "0             0       0  ...       0        0            0            0   \n",
       "1             0       0  ...       0        0            0            1   \n",
       "2             0       0  ...       0        0            0            0   \n",
       "3             0       0  ...       0        0            0            0   \n",
       "4             0       0  ...       0        0            0            0   \n",
       "...         ...     ...  ...     ...      ...          ...          ...   \n",
       "8518          0       0  ...       0        0            1            0   \n",
       "8519          0       0  ...       0        0            0            0   \n",
       "8520          0       0  ...       0        0            0            0   \n",
       "8521          0       0  ...       0        0            1            0   \n",
       "8522          0       0  ...       0        0            0            1   \n",
       "\n",
       "      Starchy Foods  Tier 2  Tier 3  Supermarket Type1  Supermarket Type2  \\\n",
       "0                 0       0       0                  1                  0   \n",
       "1                 0       0       1                  0                  1   \n",
       "2                 0       0       0                  1                  0   \n",
       "3                 0       0       1                  0                  0   \n",
       "4                 0       0       1                  1                  0   \n",
       "...             ...     ...     ...                ...                ...   \n",
       "8518              0       0       1                  1                  0   \n",
       "8519              0       1       0                  1                  0   \n",
       "8520              0       1       0                  1                  0   \n",
       "8521              0       0       1                  0                  1   \n",
       "8522              0       0       0                  1                  0   \n",
       "\n",
       "      Supermarket Type3  \n",
       "0                     0  \n",
       "1                     0  \n",
       "2                     0  \n",
       "3                     0  \n",
       "4                     0  \n",
       "...                 ...  \n",
       "8518                  0  \n",
       "8519                  0  \n",
       "8520                  0  \n",
       "8521                  0  \n",
       "8522                  0  \n",
       "\n",
       "[8519 rows x 27 columns]"
      ]
     },
     "execution_count": 27,
     "metadata": {},
     "output_type": "execute_result"
    }
   ],
   "source": [
    "sales_df"
   ]
  },
  {
   "cell_type": "code",
   "execution_count": 28,
   "metadata": {},
   "outputs": [
    {
     "data": {
      "text/plain": [
       "0       0.016047\n",
       "1       0.019278\n",
       "2       0.016760\n",
       "3       0.066112\n",
       "4       0.066112\n",
       "          ...   \n",
       "8518    0.056783\n",
       "8519    0.046982\n",
       "8520    0.035186\n",
       "8521    0.145221\n",
       "8522    0.044878\n",
       "Name: Item_Visibility, Length: 8519, dtype: float64"
      ]
     },
     "execution_count": 28,
     "metadata": {},
     "output_type": "execute_result"
    }
   ],
   "source": [
    "sales_df['Item_Visibility'] = sales_df[\"Item_Visibility\"].replace({0:np.mean(sales_df[\"Item_Visibility\"])}) \n",
    "sales_df['Item_Visibility']"
   ]
  },
  {
   "cell_type": "markdown",
   "metadata": {},
   "source": [
    "### Splitting the dataset into dependent and independent variables and splitting into training and test set"
   ]
  },
  {
   "cell_type": "code",
   "execution_count": 29,
   "metadata": {},
   "outputs": [],
   "source": [
    "target_data = sales_df['Item_Outlet_Sales']\n",
    "sales_df = sales_df.drop(['Item_Outlet_Sales'],axis=1)"
   ]
  },
  {
   "cell_type": "code",
   "execution_count": 30,
   "metadata": {},
   "outputs": [
    {
     "data": {
      "text/html": [
       "<div>\n",
       "<style scoped>\n",
       "    .dataframe tbody tr th:only-of-type {\n",
       "        vertical-align: middle;\n",
       "    }\n",
       "\n",
       "    .dataframe tbody tr th {\n",
       "        vertical-align: top;\n",
       "    }\n",
       "\n",
       "    .dataframe thead th {\n",
       "        text-align: right;\n",
       "    }\n",
       "</style>\n",
       "<table border=\"1\" class=\"dataframe\">\n",
       "  <thead>\n",
       "    <tr style=\"text-align: right;\">\n",
       "      <th></th>\n",
       "      <th>Item_Weight</th>\n",
       "      <th>Item_Fat_Content</th>\n",
       "      <th>Item_Visibility</th>\n",
       "      <th>Item_MRP</th>\n",
       "      <th>Outlet_Establishment_Year</th>\n",
       "      <th>Outlet_Size</th>\n",
       "      <th>Breads</th>\n",
       "      <th>Breakfast</th>\n",
       "      <th>Canned</th>\n",
       "      <th>Dairy</th>\n",
       "      <th>...</th>\n",
       "      <th>Seafood</th>\n",
       "      <th>Snack Foods</th>\n",
       "      <th>Soft Drinks</th>\n",
       "      <th>Starchy Foods</th>\n",
       "      <th>Tier 2</th>\n",
       "      <th>Tier 3</th>\n",
       "      <th>Supermarket Type1</th>\n",
       "      <th>Supermarket Type2</th>\n",
       "      <th>Supermarket Type3</th>\n",
       "      <th>Item_Sales</th>\n",
       "    </tr>\n",
       "  </thead>\n",
       "  <tbody>\n",
       "    <tr>\n",
       "      <th>0</th>\n",
       "      <td>9.300</td>\n",
       "      <td>0</td>\n",
       "      <td>0.016047</td>\n",
       "      <td>249.8092</td>\n",
       "      <td>1999</td>\n",
       "      <td>1</td>\n",
       "      <td>0</td>\n",
       "      <td>0</td>\n",
       "      <td>0</td>\n",
       "      <td>1</td>\n",
       "      <td>...</td>\n",
       "      <td>0</td>\n",
       "      <td>0</td>\n",
       "      <td>0</td>\n",
       "      <td>0</td>\n",
       "      <td>0</td>\n",
       "      <td>0</td>\n",
       "      <td>1</td>\n",
       "      <td>0</td>\n",
       "      <td>0</td>\n",
       "      <td>3735.1380</td>\n",
       "    </tr>\n",
       "    <tr>\n",
       "      <th>1</th>\n",
       "      <td>5.920</td>\n",
       "      <td>1</td>\n",
       "      <td>0.019278</td>\n",
       "      <td>48.2692</td>\n",
       "      <td>2009</td>\n",
       "      <td>1</td>\n",
       "      <td>0</td>\n",
       "      <td>0</td>\n",
       "      <td>0</td>\n",
       "      <td>0</td>\n",
       "      <td>...</td>\n",
       "      <td>0</td>\n",
       "      <td>0</td>\n",
       "      <td>1</td>\n",
       "      <td>0</td>\n",
       "      <td>0</td>\n",
       "      <td>1</td>\n",
       "      <td>0</td>\n",
       "      <td>1</td>\n",
       "      <td>0</td>\n",
       "      <td>443.4228</td>\n",
       "    </tr>\n",
       "    <tr>\n",
       "      <th>2</th>\n",
       "      <td>17.500</td>\n",
       "      <td>0</td>\n",
       "      <td>0.016760</td>\n",
       "      <td>141.6180</td>\n",
       "      <td>1999</td>\n",
       "      <td>1</td>\n",
       "      <td>0</td>\n",
       "      <td>0</td>\n",
       "      <td>0</td>\n",
       "      <td>0</td>\n",
       "      <td>...</td>\n",
       "      <td>0</td>\n",
       "      <td>0</td>\n",
       "      <td>0</td>\n",
       "      <td>0</td>\n",
       "      <td>0</td>\n",
       "      <td>0</td>\n",
       "      <td>1</td>\n",
       "      <td>0</td>\n",
       "      <td>0</td>\n",
       "      <td>2097.2700</td>\n",
       "    </tr>\n",
       "    <tr>\n",
       "      <th>3</th>\n",
       "      <td>19.200</td>\n",
       "      <td>1</td>\n",
       "      <td>0.066112</td>\n",
       "      <td>182.0950</td>\n",
       "      <td>1998</td>\n",
       "      <td>1</td>\n",
       "      <td>0</td>\n",
       "      <td>0</td>\n",
       "      <td>0</td>\n",
       "      <td>0</td>\n",
       "      <td>...</td>\n",
       "      <td>0</td>\n",
       "      <td>0</td>\n",
       "      <td>0</td>\n",
       "      <td>0</td>\n",
       "      <td>0</td>\n",
       "      <td>1</td>\n",
       "      <td>0</td>\n",
       "      <td>0</td>\n",
       "      <td>0</td>\n",
       "      <td>732.3800</td>\n",
       "    </tr>\n",
       "    <tr>\n",
       "      <th>4</th>\n",
       "      <td>8.930</td>\n",
       "      <td>0</td>\n",
       "      <td>0.066112</td>\n",
       "      <td>53.8614</td>\n",
       "      <td>1987</td>\n",
       "      <td>0</td>\n",
       "      <td>0</td>\n",
       "      <td>0</td>\n",
       "      <td>0</td>\n",
       "      <td>0</td>\n",
       "      <td>...</td>\n",
       "      <td>0</td>\n",
       "      <td>0</td>\n",
       "      <td>0</td>\n",
       "      <td>0</td>\n",
       "      <td>0</td>\n",
       "      <td>1</td>\n",
       "      <td>1</td>\n",
       "      <td>0</td>\n",
       "      <td>0</td>\n",
       "      <td>994.7052</td>\n",
       "    </tr>\n",
       "    <tr>\n",
       "      <th>...</th>\n",
       "      <td>...</td>\n",
       "      <td>...</td>\n",
       "      <td>...</td>\n",
       "      <td>...</td>\n",
       "      <td>...</td>\n",
       "      <td>...</td>\n",
       "      <td>...</td>\n",
       "      <td>...</td>\n",
       "      <td>...</td>\n",
       "      <td>...</td>\n",
       "      <td>...</td>\n",
       "      <td>...</td>\n",
       "      <td>...</td>\n",
       "      <td>...</td>\n",
       "      <td>...</td>\n",
       "      <td>...</td>\n",
       "      <td>...</td>\n",
       "      <td>...</td>\n",
       "      <td>...</td>\n",
       "      <td>...</td>\n",
       "      <td>...</td>\n",
       "    </tr>\n",
       "    <tr>\n",
       "      <th>8518</th>\n",
       "      <td>6.865</td>\n",
       "      <td>0</td>\n",
       "      <td>0.056783</td>\n",
       "      <td>214.5218</td>\n",
       "      <td>1987</td>\n",
       "      <td>0</td>\n",
       "      <td>0</td>\n",
       "      <td>0</td>\n",
       "      <td>0</td>\n",
       "      <td>0</td>\n",
       "      <td>...</td>\n",
       "      <td>0</td>\n",
       "      <td>1</td>\n",
       "      <td>0</td>\n",
       "      <td>0</td>\n",
       "      <td>0</td>\n",
       "      <td>1</td>\n",
       "      <td>1</td>\n",
       "      <td>0</td>\n",
       "      <td>0</td>\n",
       "      <td>2778.3834</td>\n",
       "    </tr>\n",
       "    <tr>\n",
       "      <th>8519</th>\n",
       "      <td>8.380</td>\n",
       "      <td>1</td>\n",
       "      <td>0.046982</td>\n",
       "      <td>108.1570</td>\n",
       "      <td>2002</td>\n",
       "      <td>1</td>\n",
       "      <td>0</td>\n",
       "      <td>0</td>\n",
       "      <td>0</td>\n",
       "      <td>0</td>\n",
       "      <td>...</td>\n",
       "      <td>0</td>\n",
       "      <td>0</td>\n",
       "      <td>0</td>\n",
       "      <td>0</td>\n",
       "      <td>1</td>\n",
       "      <td>0</td>\n",
       "      <td>1</td>\n",
       "      <td>0</td>\n",
       "      <td>0</td>\n",
       "      <td>549.2850</td>\n",
       "    </tr>\n",
       "    <tr>\n",
       "      <th>8520</th>\n",
       "      <td>10.600</td>\n",
       "      <td>0</td>\n",
       "      <td>0.035186</td>\n",
       "      <td>85.1224</td>\n",
       "      <td>2004</td>\n",
       "      <td>2</td>\n",
       "      <td>0</td>\n",
       "      <td>0</td>\n",
       "      <td>0</td>\n",
       "      <td>0</td>\n",
       "      <td>...</td>\n",
       "      <td>0</td>\n",
       "      <td>0</td>\n",
       "      <td>0</td>\n",
       "      <td>0</td>\n",
       "      <td>1</td>\n",
       "      <td>0</td>\n",
       "      <td>1</td>\n",
       "      <td>0</td>\n",
       "      <td>0</td>\n",
       "      <td>1193.1136</td>\n",
       "    </tr>\n",
       "    <tr>\n",
       "      <th>8521</th>\n",
       "      <td>7.210</td>\n",
       "      <td>1</td>\n",
       "      <td>0.145221</td>\n",
       "      <td>103.1332</td>\n",
       "      <td>2009</td>\n",
       "      <td>1</td>\n",
       "      <td>0</td>\n",
       "      <td>0</td>\n",
       "      <td>0</td>\n",
       "      <td>0</td>\n",
       "      <td>...</td>\n",
       "      <td>0</td>\n",
       "      <td>1</td>\n",
       "      <td>0</td>\n",
       "      <td>0</td>\n",
       "      <td>0</td>\n",
       "      <td>1</td>\n",
       "      <td>0</td>\n",
       "      <td>1</td>\n",
       "      <td>0</td>\n",
       "      <td>1845.5976</td>\n",
       "    </tr>\n",
       "    <tr>\n",
       "      <th>8522</th>\n",
       "      <td>14.800</td>\n",
       "      <td>0</td>\n",
       "      <td>0.044878</td>\n",
       "      <td>75.4670</td>\n",
       "      <td>1997</td>\n",
       "      <td>2</td>\n",
       "      <td>0</td>\n",
       "      <td>0</td>\n",
       "      <td>0</td>\n",
       "      <td>0</td>\n",
       "      <td>...</td>\n",
       "      <td>0</td>\n",
       "      <td>0</td>\n",
       "      <td>1</td>\n",
       "      <td>0</td>\n",
       "      <td>0</td>\n",
       "      <td>0</td>\n",
       "      <td>1</td>\n",
       "      <td>0</td>\n",
       "      <td>0</td>\n",
       "      <td>765.6700</td>\n",
       "    </tr>\n",
       "  </tbody>\n",
       "</table>\n",
       "<p>8519 rows × 27 columns</p>\n",
       "</div>"
      ],
      "text/plain": [
       "      Item_Weight  Item_Fat_Content  Item_Visibility  Item_MRP  \\\n",
       "0           9.300                 0         0.016047  249.8092   \n",
       "1           5.920                 1         0.019278   48.2692   \n",
       "2          17.500                 0         0.016760  141.6180   \n",
       "3          19.200                 1         0.066112  182.0950   \n",
       "4           8.930                 0         0.066112   53.8614   \n",
       "...           ...               ...              ...       ...   \n",
       "8518        6.865                 0         0.056783  214.5218   \n",
       "8519        8.380                 1         0.046982  108.1570   \n",
       "8520       10.600                 0         0.035186   85.1224   \n",
       "8521        7.210                 1         0.145221  103.1332   \n",
       "8522       14.800                 0         0.044878   75.4670   \n",
       "\n",
       "      Outlet_Establishment_Year  Outlet_Size  Breads  Breakfast  Canned  \\\n",
       "0                          1999            1       0          0       0   \n",
       "1                          2009            1       0          0       0   \n",
       "2                          1999            1       0          0       0   \n",
       "3                          1998            1       0          0       0   \n",
       "4                          1987            0       0          0       0   \n",
       "...                         ...          ...     ...        ...     ...   \n",
       "8518                       1987            0       0          0       0   \n",
       "8519                       2002            1       0          0       0   \n",
       "8520                       2004            2       0          0       0   \n",
       "8521                       2009            1       0          0       0   \n",
       "8522                       1997            2       0          0       0   \n",
       "\n",
       "      Dairy  ...  Seafood  Snack Foods  Soft Drinks  Starchy Foods  Tier 2  \\\n",
       "0         1  ...        0            0            0              0       0   \n",
       "1         0  ...        0            0            1              0       0   \n",
       "2         0  ...        0            0            0              0       0   \n",
       "3         0  ...        0            0            0              0       0   \n",
       "4         0  ...        0            0            0              0       0   \n",
       "...     ...  ...      ...          ...          ...            ...     ...   \n",
       "8518      0  ...        0            1            0              0       0   \n",
       "8519      0  ...        0            0            0              0       1   \n",
       "8520      0  ...        0            0            0              0       1   \n",
       "8521      0  ...        0            1            0              0       0   \n",
       "8522      0  ...        0            0            1              0       0   \n",
       "\n",
       "      Tier 3  Supermarket Type1  Supermarket Type2  Supermarket Type3  \\\n",
       "0          0                  1                  0                  0   \n",
       "1          1                  0                  1                  0   \n",
       "2          0                  1                  0                  0   \n",
       "3          1                  0                  0                  0   \n",
       "4          1                  1                  0                  0   \n",
       "...      ...                ...                ...                ...   \n",
       "8518       1                  1                  0                  0   \n",
       "8519       0                  1                  0                  0   \n",
       "8520       0                  1                  0                  0   \n",
       "8521       1                  0                  1                  0   \n",
       "8522       0                  1                  0                  0   \n",
       "\n",
       "      Item_Sales  \n",
       "0      3735.1380  \n",
       "1       443.4228  \n",
       "2      2097.2700  \n",
       "3       732.3800  \n",
       "4       994.7052  \n",
       "...          ...  \n",
       "8518   2778.3834  \n",
       "8519    549.2850  \n",
       "8520   1193.1136  \n",
       "8521   1845.5976  \n",
       "8522    765.6700  \n",
       "\n",
       "[8519 rows x 27 columns]"
      ]
     },
     "execution_count": 30,
     "metadata": {},
     "output_type": "execute_result"
    }
   ],
   "source": [
    "sales_df['Item_Sales'] = target_data\n",
    "sales_df"
   ]
  },
  {
   "cell_type": "code",
   "execution_count": 31,
   "metadata": {},
   "outputs": [],
   "source": [
    "X = sales_df.iloc[:,:-1]"
   ]
  },
  {
   "cell_type": "code",
   "execution_count": 32,
   "metadata": {},
   "outputs": [],
   "source": [
    "Y = sales_df.iloc[:,-1]"
   ]
  },
  {
   "cell_type": "markdown",
   "metadata": {},
   "source": [
    "#### Scaling the independent and dependent features"
   ]
  },
  {
   "cell_type": "markdown",
   "metadata": {},
   "source": [
    "#### Before we scale the data, let us plot its distribution to see if its normally distributed or not"
   ]
  },
  {
   "cell_type": "code",
   "execution_count": 33,
   "metadata": {},
   "outputs": [
    {
     "data": {
      "text/plain": [
       "Text(0.5, 1.0, 'Plotting distribution of Item_weight')"
      ]
     },
     "execution_count": 33,
     "metadata": {},
     "output_type": "execute_result"
    },
    {
     "data": {
      "image/png": "[encoded data removed]",
      "text/plain": [
       "<Figure size 432x288 with 1 Axes>"
      ]
     },
     "metadata": {
      "needs_background": "light"
     },
     "output_type": "display_data"
    }
   ],
   "source": [
    "sns.distplot(X.iloc[:,0], hist=False, rug=True)\n",
    "plt.xlabel('Item_weight percent')\n",
    "plt.ylabel('Distribution')\n",
    "plt.title('Plotting distribution of Item_weight')"
   ]
  },
  {
   "cell_type": "code",
   "execution_count": 34,
   "metadata": {},
   "outputs": [
    {
     "data": {
      "text/plain": [
       "Text(0.5, 1.0, 'Plotting distribution of Item_Visibility')"
      ]
     },
     "execution_count": 34,
     "metadata": {},
     "output_type": "execute_result"
    },
    {
     "data": {
      "image/png": "[encoded data removed]",
      "text/plain": [
       "<Figure size 432x288 with 1 Axes>"
      ]
     },
     "metadata": {
      "needs_background": "light"
     },
     "output_type": "display_data"
    }
   ],
   "source": [
    "sns.distplot(X.iloc[:,2], hist=False, rug=True)\n",
    "plt.xlabel('Item_Visibility percent')\n",
    "plt.ylabel('Distribution')\n",
    "plt.title('Plotting distribution of Item_Visibility')"
   ]
  },
  {
   "cell_type": "code",
   "execution_count": 35,
   "metadata": {},
   "outputs": [
    {
     "data": {
      "text/plain": [
       "Text(0.5, 1.0, 'Plotting distribution of Item_MRP')"
      ]
     },
     "execution_count": 35,
     "metadata": {},
     "output_type": "execute_result"
    },
    {
     "data": {
      "image/png": "[encoded data removed]",
      "text/plain": [
       "<Figure size 432x288 with 1 Axes>"
      ]
     },
     "metadata": {
      "needs_background": "light"
     },
     "output_type": "display_data"
    }
   ],
   "source": [
    "sns.distplot(X.iloc[:,3], hist=False, rug=True)\n",
    "plt.xlabel('Item_MRP percent')\n",
    "plt.ylabel('Distribution')\n",
    "plt.title('Plotting distribution of Item_MRP')"
   ]
  },
  {
   "cell_type": "code",
   "execution_count": 36,
   "metadata": {},
   "outputs": [
    {
     "data": {
      "text/plain": [
       "Text(0.5, 1.0, 'Plotting distribution of Year')"
      ]
     },
     "execution_count": 36,
     "metadata": {},
     "output_type": "execute_result"
    },
    {
     "data": {
      "image/png": "[encoded data removed]",
      "text/plain": [
       "<Figure size 432x288 with 1 Axes>"
      ]
     },
     "metadata": {
      "needs_background": "light"
     },
     "output_type": "display_data"
    }
   ],
   "source": [
    "sns.distplot(X.iloc[:,4], hist=False, rug=True)\n",
    "plt.xlabel('Year percent')\n",
    "plt.ylabel('Distribution')\n",
    "plt.title('Plotting distribution of Year')"
   ]
  },
  {
   "cell_type": "markdown",
   "metadata": {},
   "source": [
    "### Visualising as a pairplot"
   ]
  },
  {
   "cell_type": "code",
   "execution_count": 37,
   "metadata": {},
   "outputs": [
    {
     "data": {
      "text/plain": [
       "<seaborn.axisgrid.PairGrid at 0x23d4d20ce08>"
      ]
     },
     "execution_count": 37,
     "metadata": {},
     "output_type": "execute_result"
    },
    {
     "data": {
      "image/png": "[encoded data removed]",
      "text/plain": [
       "<Figure size 576x180 with 4 Axes>"
      ]
     },
     "metadata": {
      "needs_background": "light"
     },
     "output_type": "display_data"
    }
   ],
   "source": [
    "sns.pairplot(sales_df, x_vars=['Item_Weight', 'Item_Visibility', 'Item_MRP', 'Outlet_Establishment_Year'], y_vars=['Item_Sales'],\n",
    "              aspect=0.8, kind=\"reg\")"
   ]
  },
  {
   "cell_type": "markdown",
   "metadata": {},
   "source": [
    "#### Since the data is not normally distributed, we can use Standardization for scaling instead of Normalization"
   ]
  },
  {
   "cell_type": "code",
   "execution_count": 38,
   "metadata": {},
   "outputs": [],
   "source": [
    "Y = np.array(Y)\n",
    "Y = Y.reshape(len(Y),1)"
   ]
  },
  {
   "cell_type": "code",
   "execution_count": 39,
   "metadata": {},
   "outputs": [],
   "source": [
    "from sklearn.preprocessing import StandardScaler\n",
    "scaler_X = StandardScaler()\n",
    "scaler_Y = StandardScaler()"
   ]
  },
  {
   "cell_type": "code",
   "execution_count": 40,
   "metadata": {},
   "outputs": [],
   "source": [
    "X.iloc[:,[0,2,3,4]] = scaler_X.fit_transform(X.iloc[:,[0,2,3,4]])"
   ]
  },
  {
   "cell_type": "code",
   "execution_count": 41,
   "metadata": {},
   "outputs": [],
   "source": [
    "Y = scaler_Y.fit_transform(Y)"
   ]
  },
  {
   "cell_type": "code",
   "execution_count": 42,
   "metadata": {},
   "outputs": [],
   "source": [
    "Y = pd.Series(Y.flatten())"
   ]
  },
  {
   "cell_type": "code",
   "execution_count": 43,
   "metadata": {},
   "outputs": [
    {
     "name": "stdout",
     "output_type": "stream",
     "text": [
      "X after scaling:\n",
      "       Item_Weight  Item_Fat_Content  Item_Visibility  Item_MRP  \\\n",
      "0       -0.769598                 0        -1.111258  1.746938   \n",
      "1       -1.497133                 1        -1.044950 -1.489096   \n",
      "2        0.995427                 0        -1.096630  0.009762   \n",
      "3        1.361347                 1        -0.083776  0.659682   \n",
      "4       -0.849240                 0        -0.083776 -1.399305   \n",
      "...           ...               ...              ...       ...   \n",
      "8518    -1.293725                 0        -0.275234  1.180344   \n",
      "8519    -0.967626                 1        -0.476378 -0.527506   \n",
      "8520    -0.489777                 0        -0.718470 -0.897362   \n",
      "8521    -1.219465                 1         1.539759 -0.608170   \n",
      "8522     0.414260                 0        -0.519562 -1.052394   \n",
      "\n",
      "      Outlet_Establishment_Year  Outlet_Size  Breads  Breakfast  Canned  \\\n",
      "0                      0.138865            1       0          0       0   \n",
      "1                      1.333806            1       0          0       0   \n",
      "2                      0.138865            1       0          0       0   \n",
      "3                      0.019371            1       0          0       0   \n",
      "4                     -1.295064            0       0          0       0   \n",
      "...                         ...          ...     ...        ...     ...   \n",
      "8518                  -1.295064            0       0          0       0   \n",
      "8519                   0.497347            1       0          0       0   \n",
      "8520                   0.736336            2       0          0       0   \n",
      "8521                   1.333806            1       0          0       0   \n",
      "8522                  -0.100123            2       0          0       0   \n",
      "\n",
      "      Dairy  ...  Others  Seafood  Snack Foods  Soft Drinks  Starchy Foods  \\\n",
      "0         1  ...       0        0            0            0              0   \n",
      "1         0  ...       0        0            0            1              0   \n",
      "2         0  ...       0        0            0            0              0   \n",
      "3         0  ...       0        0            0            0              0   \n",
      "4         0  ...       0        0            0            0              0   \n",
      "...     ...  ...     ...      ...          ...          ...            ...   \n",
      "8518      0  ...       0        0            1            0              0   \n",
      "8519      0  ...       0        0            0            0              0   \n",
      "8520      0  ...       0        0            0            0              0   \n",
      "8521      0  ...       0        0            1            0              0   \n",
      "8522      0  ...       0        0            0            1              0   \n",
      "\n",
      "      Tier 2  Tier 3  Supermarket Type1  Supermarket Type2  Supermarket Type3  \n",
      "0          0       0                  1                  0                  0  \n",
      "1          0       1                  0                  1                  0  \n",
      "2          0       0                  1                  0                  0  \n",
      "3          0       1                  0                  0                  0  \n",
      "4          0       1                  1                  0                  0  \n",
      "...      ...     ...                ...                ...                ...  \n",
      "8518       0       1                  1                  0                  0  \n",
      "8519       1       0                  1                  0                  0  \n",
      "8520       1       0                  1                  0                  0  \n",
      "8521       0       1                  0                  1                  0  \n",
      "8522       0       0                  1                  0                  0  \n",
      "\n",
      "[8519 rows x 26 columns] \n",
      "Y after scaling:\n",
      " 0       0.910654\n",
      "1      -1.018375\n",
      "2      -0.049179\n",
      "3      -0.849039\n",
      "4      -0.695309\n",
      "          ...   \n",
      "8514    0.349971\n",
      "8515   -0.956337\n",
      "8516   -0.579037\n",
      "8517   -0.196665\n",
      "8518   -0.829530\n",
      "Length: 8519, dtype: float64\n"
     ]
    }
   ],
   "source": [
    "print(\"X after scaling:\\n\",X,\"\\nY after scaling:\\n\",Y)"
   ]
  },
  {
   "cell_type": "code",
   "execution_count": 44,
   "metadata": {},
   "outputs": [],
   "source": [
    "from sklearn.model_selection import train_test_split as tts\n",
    "X_train,X_test,Y_train,Y_test = tts(X,Y,test_size = 0.25, random_state=0)"
   ]
  },
  {
   "cell_type": "markdown",
   "metadata": {},
   "source": [
    "### Let us now build our regression model"
   ]
  },
  {
   "cell_type": "code",
   "execution_count": 45,
   "metadata": {},
   "outputs": [],
   "source": [
    "from sklearn.linear_model import LinearRegression\n",
    "reg = LinearRegression().fit(X_train,Y_train)"
   ]
  },
  {
   "cell_type": "code",
   "execution_count": 46,
   "metadata": {},
   "outputs": [
    {
     "data": {
      "text/plain": [
       "array([-0.54785161,  0.10326315, -0.32656821, ..., -0.90688205,\n",
       "       -0.7020955 ,  0.12453942])"
      ]
     },
     "execution_count": 46,
     "metadata": {},
     "output_type": "execute_result"
    }
   ],
   "source": [
    "Y_pred = reg.predict(X_test)\n",
    "Y_pred"
   ]
  },
  {
   "cell_type": "code",
   "execution_count": 47,
   "metadata": {},
   "outputs": [
    {
     "name": "stdout",
     "output_type": "stream",
     "text": [
      "[-3.60840891e-03  2.86130816e-02 -1.78590955e-03  5.59084072e-01\n",
      "  2.33954934e-02  1.36472799e-02  1.46531724e-02  8.43002817e-02\n",
      "  1.70117632e-02 -3.57266511e-02 -1.63867420e-02  2.78446765e-02\n",
      " -8.32107322e-04 -9.96509224e-03  1.52313708e-02 -2.86424935e-02\n",
      " -1.67158205e-02  6.34476642e-02  3.69266808e-03  6.96078362e-03\n",
      " -9.54825396e-03 -2.89815893e-02  3.13676639e-02  1.15900141e+00\n",
      "  9.02783126e-01  1.96859791e+00]\n"
     ]
    },
    {
     "data": {
      "text/plain": [
       "-1.1100047120519636"
      ]
     },
     "execution_count": 47,
     "metadata": {},
     "output_type": "execute_result"
    }
   ],
   "source": [
    "print(reg.coef_)\n",
    "reg.intercept_"
   ]
  },
  {
   "cell_type": "code",
   "execution_count": 48,
   "metadata": {},
   "outputs": [],
   "source": [
    "from sklearn.metrics import mean_squared_error, r2_score\n",
    "rmse = np.sqrt(mean_squared_error(Y_test, Y_pred))\n",
    "r2 = r2_score(Y_test, Y_pred)"
   ]
  },
  {
   "cell_type": "code",
   "execution_count": 49,
   "metadata": {},
   "outputs": [
    {
     "name": "stdout",
     "output_type": "stream",
     "text": [
      "RMSE:  0.6752006468025024 \n",
      "R2 score:  0.5641181377273178\n"
     ]
    }
   ],
   "source": [
    "print(\"RMSE: \",rmse,\"\\nR2 score: \",r2)"
   ]
  },
  {
   "cell_type": "code",
   "execution_count": 50,
   "metadata": {},
   "outputs": [
    {
     "data": {
      "image/png": "[encoded data removed]",
      "text/plain": [
       "<Figure size 432x288 with 1 Axes>"
      ]
     },
     "metadata": {
      "needs_background": "light"
     },
     "output_type": "display_data"
    }
   ],
   "source": [
    "x = [i for i in range(1,len(Y_pred)+1)]\n",
    "\n",
    "X_plot = plt.scatter(x,(Y_pred-Y_test),c='b')\n",
    "plt.plot(x,[0]*len(Y_pred),c='black')\n",
    "plt.xlabel(\"Each value\")\n",
    "plt.ylabel(\"Error(Difference in actual and obtain values for Linear Regression)\")\n",
    "plt.title(\"Plotting the points\")\n",
    "plt.show()"
   ]
  },
  {
   "cell_type": "markdown",
   "metadata": {},
   "source": [
    "### Regularization techniques"
   ]
  },
  {
   "cell_type": "code",
   "execution_count": 51,
   "metadata": {},
   "outputs": [],
   "source": [
    "predictors = X_train.columns"
   ]
  },
  {
   "cell_type": "code",
   "execution_count": 52,
   "metadata": {},
   "outputs": [],
   "source": [
    "coef = pd.Series(reg.coef_,predictors).sort_values()"
   ]
  },
  {
   "cell_type": "code",
   "execution_count": 53,
   "metadata": {},
   "outputs": [
    {
     "data": {
      "text/plain": [
       "Text(0, 0.5, 'coefficients')"
      ]
     },
     "execution_count": 53,
     "metadata": {},
     "output_type": "execute_result"
    },
    {
     "data": {
      "image/png": "[encoded data removed]",
      "text/plain": [
       "<Figure size 432x288 with 1 Axes>"
      ]
     },
     "metadata": {
      "needs_background": "light"
     },
     "output_type": "display_data"
    }
   ],
   "source": [
    "coef.plot(kind='bar',title='Model Coefficients')\n",
    "plt.xlabel(\"Independent features\")\n",
    "plt.ylabel(\"coefficients\")"
   ]
  },
  {
   "cell_type": "markdown",
   "metadata": {},
   "source": [
    "### Ridge regression"
   ]
  },
  {
   "cell_type": "code",
   "execution_count": 54,
   "metadata": {},
   "outputs": [],
   "source": [
    "from sklearn.linear_model import Ridge"
   ]
  },
  {
   "cell_type": "code",
   "execution_count": 55,
   "metadata": {},
   "outputs": [],
   "source": [
    "ridge = Ridge(alpha=0.05,normalize=True).fit(X_train,Y_train)\n",
    "Y_pred_ridge = ridge.predict(X_test)"
   ]
  },
  {
   "cell_type": "code",
   "execution_count": 56,
   "metadata": {},
   "outputs": [
    {
     "name": "stdout",
     "output_type": "stream",
     "text": [
      "Ridge coefficient:  [-0.003244    0.02899128 -0.02269716  0.5322577   0.04064048 -0.02657737\n",
      "  0.01846712  0.08086892  0.02147418 -0.02887569 -0.01213482  0.03348479\n",
      "  0.00530689 -0.01599262  0.01548961 -0.03121615 -0.02319988  0.06287743\n",
      "  0.00860735  0.00538986  0.00276175 -0.00662742  0.01882077  0.9120246\n",
      "  0.63824709  1.70418835]\n",
      "\n",
      "Ridge intercept:  -0.849201656660975\n"
     ]
    }
   ],
   "source": [
    "print(\"Ridge coefficient: \",ridge.coef_)\n",
    "print(\"\\nRidge intercept: \",ridge.intercept_)"
   ]
  },
  {
   "cell_type": "code",
   "execution_count": 57,
   "metadata": {},
   "outputs": [
    {
     "name": "stdout",
     "output_type": "stream",
     "text": [
      "RMSE Ridge:  0.6806094389069914 \n",
      "r2_ridge:  0.5571067780340397\n"
     ]
    }
   ],
   "source": [
    "rmse_ridge = np.sqrt(mean_squared_error(Y_test,Y_pred_ridge))\n",
    "r2_ridge = r2_score(Y_test,Y_pred_ridge)\n",
    "print(\"RMSE Ridge: \",rmse_ridge,\"\\nr2_ridge: \",r2_ridge)"
   ]
  },
  {
   "cell_type": "code",
   "execution_count": 58,
   "metadata": {},
   "outputs": [],
   "source": [
    "df = pd.DataFrame(columns=['Linear Regression','Ridge Regression'])"
   ]
  },
  {
   "cell_type": "code",
   "execution_count": 59,
   "metadata": {},
   "outputs": [],
   "source": [
    "for i in range(len(ridge.coef_)):\n",
    "    df = df.append({'Linear Reg':reg.coef_[i]},{\"Ridge Reg\":ridge.coef_[i]})"
   ]
  },
  {
   "cell_type": "code",
   "execution_count": 60,
   "metadata": {},
   "outputs": [],
   "source": [
    "predictors = X_train.columns"
   ]
  },
  {
   "cell_type": "code",
   "execution_count": 61,
   "metadata": {},
   "outputs": [
    {
     "data": {
      "text/plain": [
       "Text(0, 0.5, 'coefficients')"
      ]
     },
     "execution_count": 61,
     "metadata": {},
     "output_type": "execute_result"
    },
    {
     "data": {
      "image/png": "[encoded data removed]",
      "text/plain": [
       "<Figure size 432x288 with 1 Axes>"
      ]
     },
     "metadata": {
      "needs_background": "light"
     },
     "output_type": "display_data"
    }
   ],
   "source": [
    "coef = pd.Series(ridge.coef_,predictors).sort_values()\n",
    "coef.plot(kind='bar',title='Ridge Regression')\n",
    "plt.xlabel(\"Independent features\")\n",
    "plt.ylabel(\"coefficients\")"
   ]
  },
  {
   "cell_type": "markdown",
   "metadata": {},
   "source": [
    "### Lasso Regression"
   ]
  },
  {
   "cell_type": "code",
   "execution_count": 62,
   "metadata": {},
   "outputs": [],
   "source": [
    "from sklearn.linear_model import Lasso"
   ]
  },
  {
   "cell_type": "code",
   "execution_count": 63,
   "metadata": {},
   "outputs": [],
   "source": [
    "lasso = Lasso(alpha=0.01,normalize=True).fit(X_train,Y_train)\n",
    "Y_pred_lasso = lasso.predict(X_test)"
   ]
  },
  {
   "cell_type": "code",
   "execution_count": 64,
   "metadata": {},
   "outputs": [
    {
     "name": "stdout",
     "output_type": "stream",
     "text": [
      "Lasso coefficient:  [ 0.  0. -0.  0. -0. -0.  0.  0.  0. -0. -0.  0.  0. -0.  0. -0. -0.  0.\n",
      "  0. -0.  0.  0.  0.  0. -0.  0.]\n",
      "\n",
      "Lasso intercept:  -0.010522008923628905\n"
     ]
    }
   ],
   "source": [
    "print(\"Lasso coefficient: \",lasso.coef_)\n",
    "print(\"\\nLasso intercept: \",lasso.intercept_)"
   ]
  },
  {
   "cell_type": "code",
   "execution_count": 65,
   "metadata": {},
   "outputs": [
    {
     "name": "stdout",
     "output_type": "stream",
     "text": [
      "RMSE Lasso:  1.0235659311500818 \n",
      "r2 Lasso:  -0.001693239766812793\n"
     ]
    }
   ],
   "source": [
    "rmse_lasso = np.sqrt(mean_squared_error(Y_test,Y_pred_lasso))\n",
    "r2_lasso = r2_score(Y_test,Y_pred_lasso)\n",
    "print(\"RMSE Lasso: \",rmse_lasso,\"\\nr2 Lasso: \",r2_lasso)"
   ]
  },
  {
   "cell_type": "code",
   "execution_count": 66,
   "metadata": {},
   "outputs": [],
   "source": [
    "df1 = pd.DataFrame(columns=['Linear Regression','Ridge Regression','Lasso Regression'])\n",
    "for i in range(len(lasso.coef_)):\n",
    "    df1 = df1.append({'Linear Reg':reg.coef_[i]},{\"Ridge Reg\":ridge.coef_[i]},{\"Lasso Reg\":lasso.coef_[i]})\n"
   ]
  },
  {
   "cell_type": "code",
   "execution_count": 67,
   "metadata": {},
   "outputs": [
    {
     "data": {
      "text/plain": [
       "Text(0, 0.5, 'coefficients')"
      ]
     },
     "execution_count": 67,
     "metadata": {},
     "output_type": "execute_result"
    },
    {
     "data": {
      "image/png": "[encoded data removed]",
      "text/plain": [
       "<Figure size 432x288 with 1 Axes>"
      ]
     },
     "metadata": {
      "needs_background": "light"
     },
     "output_type": "display_data"
    }
   ],
   "source": [
    "coef = pd.Series(lasso.coef_,predictors).sort_values()\n",
    "coef.plot(kind='bar',title='Lasso Regression')\n",
    "plt.xlabel(\"Independent features\")\n",
    "plt.ylabel(\"coefficients\")"
   ]
  },
  {
   "cell_type": "markdown",
   "metadata": {},
   "source": [
    "### Although we obtain low RMSE error, let us explore the dataset further to see if our model is the best model"
   ]
  },
  {
   "cell_type": "code",
   "execution_count": 68,
   "metadata": {},
   "outputs": [],
   "source": [
    "sales_df_temp = X"
   ]
  },
  {
   "cell_type": "code",
   "execution_count": 69,
   "metadata": {},
   "outputs": [],
   "source": [
    "sales_df_temp['Item_sales']=Y"
   ]
  },
  {
   "cell_type": "code",
   "execution_count": 70,
   "metadata": {},
   "outputs": [
    {
     "data": {
      "text/html": [
       "<div>\n",
       "<style scoped>\n",
       "    .dataframe tbody tr th:only-of-type {\n",
       "        vertical-align: middle;\n",
       "    }\n",
       "\n",
       "    .dataframe tbody tr th {\n",
       "        vertical-align: top;\n",
       "    }\n",
       "\n",
       "    .dataframe thead th {\n",
       "        text-align: right;\n",
       "    }\n",
       "</style>\n",
       "<table border=\"1\" class=\"dataframe\">\n",
       "  <thead>\n",
       "    <tr style=\"text-align: right;\">\n",
       "      <th></th>\n",
       "      <th>Item_Weight</th>\n",
       "      <th>Item_Fat_Content</th>\n",
       "      <th>Item_Visibility</th>\n",
       "      <th>Item_MRP</th>\n",
       "      <th>Outlet_Establishment_Year</th>\n",
       "      <th>Outlet_Size</th>\n",
       "      <th>Breads</th>\n",
       "      <th>Breakfast</th>\n",
       "      <th>Canned</th>\n",
       "      <th>Dairy</th>\n",
       "      <th>...</th>\n",
       "      <th>Seafood</th>\n",
       "      <th>Snack Foods</th>\n",
       "      <th>Soft Drinks</th>\n",
       "      <th>Starchy Foods</th>\n",
       "      <th>Tier 2</th>\n",
       "      <th>Tier 3</th>\n",
       "      <th>Supermarket Type1</th>\n",
       "      <th>Supermarket Type2</th>\n",
       "      <th>Supermarket Type3</th>\n",
       "      <th>Item_sales</th>\n",
       "    </tr>\n",
       "  </thead>\n",
       "  <tbody>\n",
       "    <tr>\n",
       "      <th>0</th>\n",
       "      <td>-0.769598</td>\n",
       "      <td>0</td>\n",
       "      <td>-1.111258</td>\n",
       "      <td>1.746938</td>\n",
       "      <td>0.138865</td>\n",
       "      <td>1</td>\n",
       "      <td>0</td>\n",
       "      <td>0</td>\n",
       "      <td>0</td>\n",
       "      <td>1</td>\n",
       "      <td>...</td>\n",
       "      <td>0</td>\n",
       "      <td>0</td>\n",
       "      <td>0</td>\n",
       "      <td>0</td>\n",
       "      <td>0</td>\n",
       "      <td>0</td>\n",
       "      <td>1</td>\n",
       "      <td>0</td>\n",
       "      <td>0</td>\n",
       "      <td>0.910654</td>\n",
       "    </tr>\n",
       "    <tr>\n",
       "      <th>1</th>\n",
       "      <td>-1.497133</td>\n",
       "      <td>1</td>\n",
       "      <td>-1.044950</td>\n",
       "      <td>-1.489096</td>\n",
       "      <td>1.333806</td>\n",
       "      <td>1</td>\n",
       "      <td>0</td>\n",
       "      <td>0</td>\n",
       "      <td>0</td>\n",
       "      <td>0</td>\n",
       "      <td>...</td>\n",
       "      <td>0</td>\n",
       "      <td>0</td>\n",
       "      <td>1</td>\n",
       "      <td>0</td>\n",
       "      <td>0</td>\n",
       "      <td>1</td>\n",
       "      <td>0</td>\n",
       "      <td>1</td>\n",
       "      <td>0</td>\n",
       "      <td>-1.018375</td>\n",
       "    </tr>\n",
       "    <tr>\n",
       "      <th>2</th>\n",
       "      <td>0.995427</td>\n",
       "      <td>0</td>\n",
       "      <td>-1.096630</td>\n",
       "      <td>0.009762</td>\n",
       "      <td>0.138865</td>\n",
       "      <td>1</td>\n",
       "      <td>0</td>\n",
       "      <td>0</td>\n",
       "      <td>0</td>\n",
       "      <td>0</td>\n",
       "      <td>...</td>\n",
       "      <td>0</td>\n",
       "      <td>0</td>\n",
       "      <td>0</td>\n",
       "      <td>0</td>\n",
       "      <td>0</td>\n",
       "      <td>0</td>\n",
       "      <td>1</td>\n",
       "      <td>0</td>\n",
       "      <td>0</td>\n",
       "      <td>-0.049179</td>\n",
       "    </tr>\n",
       "    <tr>\n",
       "      <th>3</th>\n",
       "      <td>1.361347</td>\n",
       "      <td>1</td>\n",
       "      <td>-0.083776</td>\n",
       "      <td>0.659682</td>\n",
       "      <td>0.019371</td>\n",
       "      <td>1</td>\n",
       "      <td>0</td>\n",
       "      <td>0</td>\n",
       "      <td>0</td>\n",
       "      <td>0</td>\n",
       "      <td>...</td>\n",
       "      <td>0</td>\n",
       "      <td>0</td>\n",
       "      <td>0</td>\n",
       "      <td>0</td>\n",
       "      <td>0</td>\n",
       "      <td>1</td>\n",
       "      <td>0</td>\n",
       "      <td>0</td>\n",
       "      <td>0</td>\n",
       "      <td>-0.849039</td>\n",
       "    </tr>\n",
       "    <tr>\n",
       "      <th>4</th>\n",
       "      <td>-0.849240</td>\n",
       "      <td>0</td>\n",
       "      <td>-0.083776</td>\n",
       "      <td>-1.399305</td>\n",
       "      <td>-1.295064</td>\n",
       "      <td>0</td>\n",
       "      <td>0</td>\n",
       "      <td>0</td>\n",
       "      <td>0</td>\n",
       "      <td>0</td>\n",
       "      <td>...</td>\n",
       "      <td>0</td>\n",
       "      <td>0</td>\n",
       "      <td>0</td>\n",
       "      <td>0</td>\n",
       "      <td>0</td>\n",
       "      <td>1</td>\n",
       "      <td>1</td>\n",
       "      <td>0</td>\n",
       "      <td>0</td>\n",
       "      <td>-0.695309</td>\n",
       "    </tr>\n",
       "    <tr>\n",
       "      <th>...</th>\n",
       "      <td>...</td>\n",
       "      <td>...</td>\n",
       "      <td>...</td>\n",
       "      <td>...</td>\n",
       "      <td>...</td>\n",
       "      <td>...</td>\n",
       "      <td>...</td>\n",
       "      <td>...</td>\n",
       "      <td>...</td>\n",
       "      <td>...</td>\n",
       "      <td>...</td>\n",
       "      <td>...</td>\n",
       "      <td>...</td>\n",
       "      <td>...</td>\n",
       "      <td>...</td>\n",
       "      <td>...</td>\n",
       "      <td>...</td>\n",
       "      <td>...</td>\n",
       "      <td>...</td>\n",
       "      <td>...</td>\n",
       "      <td>...</td>\n",
       "    </tr>\n",
       "    <tr>\n",
       "      <th>8518</th>\n",
       "      <td>-1.293725</td>\n",
       "      <td>0</td>\n",
       "      <td>-0.275234</td>\n",
       "      <td>1.180344</td>\n",
       "      <td>-1.295064</td>\n",
       "      <td>0</td>\n",
       "      <td>0</td>\n",
       "      <td>0</td>\n",
       "      <td>0</td>\n",
       "      <td>0</td>\n",
       "      <td>...</td>\n",
       "      <td>0</td>\n",
       "      <td>1</td>\n",
       "      <td>0</td>\n",
       "      <td>0</td>\n",
       "      <td>0</td>\n",
       "      <td>1</td>\n",
       "      <td>1</td>\n",
       "      <td>0</td>\n",
       "      <td>0</td>\n",
       "      <td>-0.829530</td>\n",
       "    </tr>\n",
       "    <tr>\n",
       "      <th>8519</th>\n",
       "      <td>-0.967626</td>\n",
       "      <td>1</td>\n",
       "      <td>-0.476378</td>\n",
       "      <td>-0.527506</td>\n",
       "      <td>0.497347</td>\n",
       "      <td>1</td>\n",
       "      <td>0</td>\n",
       "      <td>0</td>\n",
       "      <td>0</td>\n",
       "      <td>0</td>\n",
       "      <td>...</td>\n",
       "      <td>0</td>\n",
       "      <td>0</td>\n",
       "      <td>0</td>\n",
       "      <td>0</td>\n",
       "      <td>1</td>\n",
       "      <td>0</td>\n",
       "      <td>1</td>\n",
       "      <td>0</td>\n",
       "      <td>0</td>\n",
       "      <td>NaN</td>\n",
       "    </tr>\n",
       "    <tr>\n",
       "      <th>8520</th>\n",
       "      <td>-0.489777</td>\n",
       "      <td>0</td>\n",
       "      <td>-0.718470</td>\n",
       "      <td>-0.897362</td>\n",
       "      <td>0.736336</td>\n",
       "      <td>2</td>\n",
       "      <td>0</td>\n",
       "      <td>0</td>\n",
       "      <td>0</td>\n",
       "      <td>0</td>\n",
       "      <td>...</td>\n",
       "      <td>0</td>\n",
       "      <td>0</td>\n",
       "      <td>0</td>\n",
       "      <td>0</td>\n",
       "      <td>1</td>\n",
       "      <td>0</td>\n",
       "      <td>1</td>\n",
       "      <td>0</td>\n",
       "      <td>0</td>\n",
       "      <td>NaN</td>\n",
       "    </tr>\n",
       "    <tr>\n",
       "      <th>8521</th>\n",
       "      <td>-1.219465</td>\n",
       "      <td>1</td>\n",
       "      <td>1.539759</td>\n",
       "      <td>-0.608170</td>\n",
       "      <td>1.333806</td>\n",
       "      <td>1</td>\n",
       "      <td>0</td>\n",
       "      <td>0</td>\n",
       "      <td>0</td>\n",
       "      <td>0</td>\n",
       "      <td>...</td>\n",
       "      <td>0</td>\n",
       "      <td>1</td>\n",
       "      <td>0</td>\n",
       "      <td>0</td>\n",
       "      <td>0</td>\n",
       "      <td>1</td>\n",
       "      <td>0</td>\n",
       "      <td>1</td>\n",
       "      <td>0</td>\n",
       "      <td>NaN</td>\n",
       "    </tr>\n",
       "    <tr>\n",
       "      <th>8522</th>\n",
       "      <td>0.414260</td>\n",
       "      <td>0</td>\n",
       "      <td>-0.519562</td>\n",
       "      <td>-1.052394</td>\n",
       "      <td>-0.100123</td>\n",
       "      <td>2</td>\n",
       "      <td>0</td>\n",
       "      <td>0</td>\n",
       "      <td>0</td>\n",
       "      <td>0</td>\n",
       "      <td>...</td>\n",
       "      <td>0</td>\n",
       "      <td>0</td>\n",
       "      <td>1</td>\n",
       "      <td>0</td>\n",
       "      <td>0</td>\n",
       "      <td>0</td>\n",
       "      <td>1</td>\n",
       "      <td>0</td>\n",
       "      <td>0</td>\n",
       "      <td>NaN</td>\n",
       "    </tr>\n",
       "  </tbody>\n",
       "</table>\n",
       "<p>8519 rows × 27 columns</p>\n",
       "</div>"
      ],
      "text/plain": [
       "      Item_Weight  Item_Fat_Content  Item_Visibility  Item_MRP  \\\n",
       "0       -0.769598                 0        -1.111258  1.746938   \n",
       "1       -1.497133                 1        -1.044950 -1.489096   \n",
       "2        0.995427                 0        -1.096630  0.009762   \n",
       "3        1.361347                 1        -0.083776  0.659682   \n",
       "4       -0.849240                 0        -0.083776 -1.399305   \n",
       "...           ...               ...              ...       ...   \n",
       "8518    -1.293725                 0        -0.275234  1.180344   \n",
       "8519    -0.967626                 1        -0.476378 -0.527506   \n",
       "8520    -0.489777                 0        -0.718470 -0.897362   \n",
       "8521    -1.219465                 1         1.539759 -0.608170   \n",
       "8522     0.414260                 0        -0.519562 -1.052394   \n",
       "\n",
       "      Outlet_Establishment_Year  Outlet_Size  Breads  Breakfast  Canned  \\\n",
       "0                      0.138865            1       0          0       0   \n",
       "1                      1.333806            1       0          0       0   \n",
       "2                      0.138865            1       0          0       0   \n",
       "3                      0.019371            1       0          0       0   \n",
       "4                     -1.295064            0       0          0       0   \n",
       "...                         ...          ...     ...        ...     ...   \n",
       "8518                  -1.295064            0       0          0       0   \n",
       "8519                   0.497347            1       0          0       0   \n",
       "8520                   0.736336            2       0          0       0   \n",
       "8521                   1.333806            1       0          0       0   \n",
       "8522                  -0.100123            2       0          0       0   \n",
       "\n",
       "      Dairy  ...  Seafood  Snack Foods  Soft Drinks  Starchy Foods  Tier 2  \\\n",
       "0         1  ...        0            0            0              0       0   \n",
       "1         0  ...        0            0            1              0       0   \n",
       "2         0  ...        0            0            0              0       0   \n",
       "3         0  ...        0            0            0              0       0   \n",
       "4         0  ...        0            0            0              0       0   \n",
       "...     ...  ...      ...          ...          ...            ...     ...   \n",
       "8518      0  ...        0            1            0              0       0   \n",
       "8519      0  ...        0            0            0              0       1   \n",
       "8520      0  ...        0            0            0              0       1   \n",
       "8521      0  ...        0            1            0              0       0   \n",
       "8522      0  ...        0            0            1              0       0   \n",
       "\n",
       "      Tier 3  Supermarket Type1  Supermarket Type2  Supermarket Type3  \\\n",
       "0          0                  1                  0                  0   \n",
       "1          1                  0                  1                  0   \n",
       "2          0                  1                  0                  0   \n",
       "3          1                  0                  0                  0   \n",
       "4          1                  1                  0                  0   \n",
       "...      ...                ...                ...                ...   \n",
       "8518       1                  1                  0                  0   \n",
       "8519       0                  1                  0                  0   \n",
       "8520       0                  1                  0                  0   \n",
       "8521       1                  0                  1                  0   \n",
       "8522       0                  1                  0                  0   \n",
       "\n",
       "      Item_sales  \n",
       "0       0.910654  \n",
       "1      -1.018375  \n",
       "2      -0.049179  \n",
       "3      -0.849039  \n",
       "4      -0.695309  \n",
       "...          ...  \n",
       "8518   -0.829530  \n",
       "8519         NaN  \n",
       "8520         NaN  \n",
       "8521         NaN  \n",
       "8522         NaN  \n",
       "\n",
       "[8519 rows x 27 columns]"
      ]
     },
     "execution_count": 70,
     "metadata": {},
     "output_type": "execute_result"
    }
   ],
   "source": [
    "sales_df_temp"
   ]
  },
  {
   "cell_type": "code",
   "execution_count": 71,
   "metadata": {},
   "outputs": [
    {
     "data": {
      "text/plain": [
       "Item_Weight                  0\n",
       "Item_Fat_Content             0\n",
       "Item_Visibility              0\n",
       "Item_MRP                     0\n",
       "Outlet_Establishment_Year    0\n",
       "Outlet_Size                  0\n",
       "Breads                       0\n",
       "Breakfast                    0\n",
       "Canned                       0\n",
       "Dairy                        0\n",
       "Frozen Foods                 0\n",
       "Fruits and Vegetables        0\n",
       "Hard Drinks                  0\n",
       "Health and Hygiene           0\n",
       "Household                    0\n",
       "Meat                         0\n",
       "Others                       0\n",
       "Seafood                      0\n",
       "Snack Foods                  0\n",
       "Soft Drinks                  0\n",
       "Starchy Foods                0\n",
       "Tier 2                       0\n",
       "Tier 3                       0\n",
       "Supermarket Type1            0\n",
       "Supermarket Type2            0\n",
       "Supermarket Type3            0\n",
       "Item_sales                   4\n",
       "dtype: int64"
      ]
     },
     "execution_count": 71,
     "metadata": {},
     "output_type": "execute_result"
    }
   ],
   "source": [
    "sales_df_temp.isnull().sum()"
   ]
  },
  {
   "cell_type": "code",
   "execution_count": 72,
   "metadata": {},
   "outputs": [],
   "source": [
    "sales_df_temp = sales_df_temp.dropna()"
   ]
  },
  {
   "cell_type": "code",
   "execution_count": 73,
   "metadata": {},
   "outputs": [
    {
     "data": {
      "text/plain": [
       "<matplotlib.axes._subplots.AxesSubplot at 0x23d50138b08>"
      ]
     },
     "execution_count": 73,
     "metadata": {},
     "output_type": "execute_result"
    },
    {
     "data": {
      "image/png": "[encoded data removed]",
      "text/plain": [
       "<Figure size 1080x432 with 2 Axes>"
      ]
     },
     "metadata": {
      "needs_background": "light"
     },
     "output_type": "display_data"
    }
   ],
   "source": [
    "fig, ax = plt.subplots(figsize=(15,6))\n",
    "sns.heatmap(sales_df_temp.corr())"
   ]
  },
  {
   "cell_type": "code",
   "execution_count": 74,
   "metadata": {},
   "outputs": [
    {
     "data": {
      "text/plain": [
       "Item_Weight                  0.007462\n",
       "Item_Fat_Content             0.008512\n",
       "Item_Visibility             -0.012741\n",
       "Item_MRP                     0.064391\n",
       "Outlet_Establishment_Year    0.012651\n",
       "Outlet_Size                 -0.005691\n",
       "Breads                      -0.006611\n",
       "Breakfast                   -0.029168\n",
       "Canned                      -0.002207\n",
       "Dairy                       -0.006010\n",
       "Frozen Foods                 0.003656\n",
       "Fruits and Vegetables        0.011514\n",
       "Hard Drinks                  0.000775\n",
       "Health and Hygiene          -0.002181\n",
       "Household                   -0.010162\n",
       "Meat                         0.022691\n",
       "Others                      -0.004989\n",
       "Seafood                      0.002060\n",
       "Snack Foods                  0.011493\n",
       "Soft Drinks                 -0.013383\n",
       "Starchy Foods                0.025257\n",
       "Tier 2                       0.015774\n",
       "Tier 3                      -0.000615\n",
       "Supermarket Type1            0.014292\n",
       "Supermarket Type2            0.007575\n",
       "Supermarket Type3            0.018194\n",
       "Item_sales                   1.000000\n",
       "Name: Item_sales, dtype: float64"
      ]
     },
     "execution_count": 74,
     "metadata": {},
     "output_type": "execute_result"
    }
   ],
   "source": [
    "sales_df_temp.corr(method='pearson')['Item_sales']"
   ]
  },
  {
   "cell_type": "markdown",
   "metadata": {},
   "source": [
    "#### As Item types takes almost 50% of the independent variable, let us eliminate that column to check the accuracy "
   ]
  },
  {
   "cell_type": "code",
   "execution_count": 75,
   "metadata": {},
   "outputs": [],
   "source": [
    "X_temp = sales_df_temp.drop(sales_df_temp.iloc[:,6:21],axis=1)"
   ]
  },
  {
   "cell_type": "code",
   "execution_count": 76,
   "metadata": {},
   "outputs": [],
   "source": [
    "X_temp = X_temp.drop(['Item_sales'],axis=1)"
   ]
  },
  {
   "cell_type": "code",
   "execution_count": 77,
   "metadata": {},
   "outputs": [],
   "source": [
    "Y_temp = sales_df_temp[\"Item_sales\"]"
   ]
  },
  {
   "cell_type": "code",
   "execution_count": 78,
   "metadata": {},
   "outputs": [],
   "source": [
    "from sklearn.model_selection import train_test_split as tts\n",
    "X_train_temp,X_test_temp,Y_train_temp,Y_test_temp = tts(X_temp,Y_temp,test_size = 0.25, random_state=0)"
   ]
  },
  {
   "cell_type": "code",
   "execution_count": 79,
   "metadata": {},
   "outputs": [],
   "source": [
    "from sklearn.linear_model import LinearRegression\n",
    "reg_temp = LinearRegression().fit(X_train_temp,Y_train_temp)"
   ]
  },
  {
   "cell_type": "code",
   "execution_count": 80,
   "metadata": {},
   "outputs": [],
   "source": [
    "Y_pred_temp = reg_temp.predict(X_test_temp)"
   ]
  },
  {
   "cell_type": "code",
   "execution_count": 81,
   "metadata": {},
   "outputs": [],
   "source": [
    "from sklearn.metrics import mean_squared_error, r2_score\n",
    "rmse = np.sqrt(mean_squared_error(Y_test_temp, Y_pred_temp))\n",
    "r2 = r2_score(Y_test, Y_pred)"
   ]
  },
  {
   "cell_type": "code",
   "execution_count": 82,
   "metadata": {},
   "outputs": [
    {
     "name": "stdout",
     "output_type": "stream",
     "text": [
      "RMSE:  1.0059447409472886 \n",
      "R2 score:  0.5641181377273178\n"
     ]
    }
   ],
   "source": [
    "print(\"RMSE: \",rmse,\"\\nR2 score: \",r2)"
   ]
  },
  {
   "cell_type": "code",
   "execution_count": 83,
   "metadata": {},
   "outputs": [
    {
     "data": {
      "image/png": "[encoded data removed]",
      "text/plain": [
       "<Figure size 432x288 with 1 Axes>"
      ]
     },
     "metadata": {
      "needs_background": "light"
     },
     "output_type": "display_data"
    }
   ],
   "source": [
    "x = [i for i in range(1,len(Y_pred_temp)+1)]\n",
    "\n",
    "X_plot = plt.scatter(x,(Y_pred_temp-Y_test_temp),c='blue')\n",
    "plt.plot(x,[0]*len(Y_pred_temp),c='white')\n",
    "plt.xlabel(\"Each value\")\n",
    "plt.ylabel(\"Error(Difference in actual and obtain values for reduced variables)\")\n",
    "plt.title(\"Plotting the points\")\n",
    "plt.show()"
   ]
  },
  {
   "cell_type": "markdown",
   "metadata": {},
   "source": [
    "### As we can see, the RMSE increased drastically after removing the different Item types. Let us build the lasso and ridge regression models for this minimized data"
   ]
  },
  {
   "cell_type": "markdown",
   "metadata": {},
   "source": [
    "### Ridge Regression"
   ]
  },
  {
   "cell_type": "code",
   "execution_count": 84,
   "metadata": {},
   "outputs": [],
   "source": [
    "from sklearn.linear_model import Ridge\n",
    "ridge_temp = Ridge(alpha=0.05, normalize=True).fit(X_train_temp,Y_train_temp)"
   ]
  },
  {
   "cell_type": "code",
   "execution_count": 85,
   "metadata": {},
   "outputs": [],
   "source": [
    "Y_pred_ridge_temp = ridge_temp.predict(X_test_temp)"
   ]
  },
  {
   "cell_type": "code",
   "execution_count": 86,
   "metadata": {},
   "outputs": [
    {
     "name": "stdout",
     "output_type": "stream",
     "text": [
      "Ridge coefficient:  [ 0.00176332  0.01023219 -0.00274929  0.05439159  0.01243358  0.00289184\n",
      "  0.01846446 -0.00248545  0.11518566  0.11973783  0.15224558]\n",
      "\n",
      "Ridge intercept:  -0.11522826711556683\n"
     ]
    }
   ],
   "source": [
    "print(\"Ridge coefficient: \",ridge_temp.coef_)\n",
    "print(\"\\nRidge intercept: \",ridge_temp.intercept_)"
   ]
  },
  {
   "cell_type": "code",
   "execution_count": 87,
   "metadata": {},
   "outputs": [
    {
     "name": "stdout",
     "output_type": "stream",
     "text": [
      "RMSE Ridge:  1.0058062911512964 \n",
      "r2_ridge:  0.005431409209763038\n"
     ]
    }
   ],
   "source": [
    "rmse_ridge_temp = np.sqrt(mean_squared_error(Y_test_temp,Y_pred_ridge_temp))\n",
    "r2_ridge_temp = r2_score(Y_test_temp,Y_pred_ridge_temp)\n",
    "print(\"RMSE Ridge: \",rmse_ridge_temp,\"\\nr2_ridge: \",r2_ridge_temp)"
   ]
  },
  {
   "cell_type": "markdown",
   "metadata": {},
   "source": [
    "### Lasso Regression"
   ]
  },
  {
   "cell_type": "code",
   "execution_count": 88,
   "metadata": {},
   "outputs": [],
   "source": [
    "from sklearn.linear_model import Lasso\n",
    "lasso_temp = Ridge(alpha=0.01, normalize=True).fit(X_train_temp,Y_train_temp)"
   ]
  },
  {
   "cell_type": "code",
   "execution_count": 89,
   "metadata": {},
   "outputs": [],
   "source": [
    "Y_pred_lasso_temp = lasso_temp.predict(X_test_temp)"
   ]
  },
  {
   "cell_type": "code",
   "execution_count": 90,
   "metadata": {},
   "outputs": [
    {
     "name": "stdout",
     "output_type": "stream",
     "text": [
      "Lasso coefficient:  [ 0.00188686  0.01029771 -0.00082221  0.05659609  0.00920258  0.00728742\n",
      "  0.01933029 -0.00082064  0.13868972  0.14920725  0.17386841]\n",
      "\n",
      "Lasso intercept:  -0.1423024138152816\n"
     ]
    }
   ],
   "source": [
    "print(\"Lasso coefficient: \",lasso_temp.coef_)\n",
    "print(\"\\nLasso intercept: \",lasso_temp.intercept_)"
   ]
  },
  {
   "cell_type": "code",
   "execution_count": 91,
   "metadata": {},
   "outputs": [
    {
     "name": "stdout",
     "output_type": "stream",
     "text": [
      "RMSE Lasso:  1.005900218355028 \n",
      "r2_Lasso:  0.005245644993832399\n"
     ]
    }
   ],
   "source": [
    "rmse_lasso_temp = np.sqrt(mean_squared_error(Y_test_temp,Y_pred_lasso_temp))\n",
    "r2_lasso_temp = r2_score(Y_test_temp,Y_pred_lasso_temp)\n",
    "print(\"RMSE Lasso: \",rmse_lasso_temp,\"\\nr2_Lasso: \",r2_lasso_temp)"
   ]
  },
  {
   "cell_type": "markdown",
   "metadata": {},
   "source": [
    "### It is evident that reducing the variables has made the model worse because r2 score has decreased for Ridge and Lasso."
   ]
  },
  {
   "cell_type": "markdown",
   "metadata": {},
   "source": [
    "### Along with Linear Regression, let us also build an SVM model to compare accuracies"
   ]
  },
  {
   "cell_type": "markdown",
   "metadata": {},
   "source": [
    "#### On original data without removing Item Types"
   ]
  },
  {
   "cell_type": "code",
   "execution_count": 92,
   "metadata": {},
   "outputs": [],
   "source": [
    "from sklearn.svm import SVR"
   ]
  },
  {
   "cell_type": "code",
   "execution_count": 93,
   "metadata": {},
   "outputs": [],
   "source": [
    "reg_svr = SVR(kernel='linear').fit(X_train,Y_train)"
   ]
  },
  {
   "cell_type": "code",
   "execution_count": 94,
   "metadata": {},
   "outputs": [],
   "source": [
    "Y_pred_svm = reg_svr.predict(X_test)"
   ]
  },
  {
   "cell_type": "code",
   "execution_count": 95,
   "metadata": {},
   "outputs": [],
   "source": [
    "from sklearn.metrics import mean_squared_error, r2_score\n",
    "rmse = np.sqrt(mean_squared_error(Y_test, Y_pred_svm))\n",
    "r2 = r2_score(Y_test, Y_pred_svm)"
   ]
  },
  {
   "cell_type": "code",
   "execution_count": 96,
   "metadata": {},
   "outputs": [
    {
     "name": "stdout",
     "output_type": "stream",
     "text": [
      "RMSE:  0.6861358035939253 \n",
      "R2 score:  0.5498852315672538\n"
     ]
    }
   ],
   "source": [
    "print(\"RMSE: \",rmse,\"\\nR2 score: \",r2)"
   ]
  },
  {
   "cell_type": "code",
   "execution_count": 97,
   "metadata": {},
   "outputs": [
    {
     "data": {
      "image/png": "[encoded data removed]",
      "text/plain": [
       "<Figure size 432x288 with 1 Axes>"
      ]
     },
     "metadata": {
      "needs_background": "light"
     },
     "output_type": "display_data"
    }
   ],
   "source": [
    "x = [i for i in range(1,len(Y_pred_svm)+1)]\n",
    "\n",
    "X_plot = plt.scatter(x,(Y_pred_svm-Y_test),c='red')\n",
    "plt.plot(x,[0]*len(Y_pred_svm),c='black')\n",
    "plt.xlabel(\"Each value\")\n",
    "plt.ylabel(\"Error(Difference in actual and obtain values for SVR)\")\n",
    "plt.title(\"Plotting the points\")\n",
    "plt.show()"
   ]
  },
  {
   "cell_type": "markdown",
   "metadata": {},
   "source": [
    "#### On data after removing Item Types"
   ]
  },
  {
   "cell_type": "code",
   "execution_count": 98,
   "metadata": {},
   "outputs": [],
   "source": [
    "reg_svr_temp = SVR(kernel='linear').fit(X_train_temp,Y_train_temp)"
   ]
  },
  {
   "cell_type": "code",
   "execution_count": 99,
   "metadata": {},
   "outputs": [],
   "source": [
    "Y_pred_temp_svm = reg_svr_temp.predict(X_test_temp)"
   ]
  },
  {
   "cell_type": "code",
   "execution_count": 100,
   "metadata": {},
   "outputs": [
    {
     "name": "stdout",
     "output_type": "stream",
     "text": [
      "RMSE:  1.02785851422996 \n",
      "R2 score:  -0.038658356824676554\n"
     ]
    }
   ],
   "source": [
    "from sklearn.metrics import mean_squared_error, r2_score\n",
    "rmse = np.sqrt(mean_squared_error(Y_test_temp, Y_pred_temp_svm))\n",
    "r2 = r2_score(Y_test_temp, Y_pred_temp_svm)\n",
    "\n",
    "print(\"RMSE: \",rmse,\"\\nR2 score: \",r2)"
   ]
  },
  {
   "cell_type": "code",
   "execution_count": 101,
   "metadata": {},
   "outputs": [
    {
     "data": {
      "image/png": "[encoded data removed]",
      "text/plain": [
       "<Figure size 432x288 with 1 Axes>"
      ]
     },
     "metadata": {
      "needs_background": "light"
     },
     "output_type": "display_data"
    }
   ],
   "source": [
    "x = [i for i in range(1,len(Y_pred_temp_svm)+1)]\n",
    "\n",
    "X_plot = plt.scatter(x,(Y_pred_temp_svm-Y_test_temp),c='red')\n",
    "plt.plot(x,[0]*len(Y_pred_temp_svm),c='black')\n",
    "plt.xlabel(\"Each value\")\n",
    "plt.ylabel(\"Error(Difference in actual and obtain values for SVR reduced)\")\n",
    "plt.title(\"Plotting the points\")\n",
    "plt.show()"
   ]
  },
  {
   "cell_type": "markdown",
   "metadata": {},
   "source": [
    "### When compared to our Linear Regression model, our SVR model is slightly inferior"
   ]
  },
  {
   "cell_type": "markdown",
   "metadata": {},
   "source": [
    "### Let us now import the test set and use our regressor and SVR to predict the prices"
   ]
  },
  {
   "cell_type": "code",
   "execution_count": 102,
   "metadata": {},
   "outputs": [],
   "source": [
    "sales_df_test = pd.read_csv(\"Test.csv\")"
   ]
  },
  {
   "cell_type": "code",
   "execution_count": 103,
   "metadata": {},
   "outputs": [
    {
     "data": {
      "text/html": [
       "<div>\n",
       "<style scoped>\n",
       "    .dataframe tbody tr th:only-of-type {\n",
       "        vertical-align: middle;\n",
       "    }\n",
       "\n",
       "    .dataframe tbody tr th {\n",
       "        vertical-align: top;\n",
       "    }\n",
       "\n",
       "    .dataframe thead th {\n",
       "        text-align: right;\n",
       "    }\n",
       "</style>\n",
       "<table border=\"1\" class=\"dataframe\">\n",
       "  <thead>\n",
       "    <tr style=\"text-align: right;\">\n",
       "      <th></th>\n",
       "      <th>Item_Identifier</th>\n",
       "      <th>Item_Weight</th>\n",
       "      <th>Item_Fat_Content</th>\n",
       "      <th>Item_Visibility</th>\n",
       "      <th>Item_Type</th>\n",
       "      <th>Item_MRP</th>\n",
       "      <th>Outlet_Identifier</th>\n",
       "      <th>Outlet_Establishment_Year</th>\n",
       "      <th>Outlet_Size</th>\n",
       "      <th>Outlet_Location_Type</th>\n",
       "      <th>Outlet_Type</th>\n",
       "    </tr>\n",
       "  </thead>\n",
       "  <tbody>\n",
       "    <tr>\n",
       "      <th>0</th>\n",
       "      <td>FDW58</td>\n",
       "      <td>20.750</td>\n",
       "      <td>Low Fat</td>\n",
       "      <td>0.007565</td>\n",
       "      <td>Snack Foods</td>\n",
       "      <td>107.8622</td>\n",
       "      <td>OUT049</td>\n",
       "      <td>1999</td>\n",
       "      <td>Medium</td>\n",
       "      <td>Tier 1</td>\n",
       "      <td>Supermarket Type1</td>\n",
       "    </tr>\n",
       "    <tr>\n",
       "      <th>1</th>\n",
       "      <td>FDW14</td>\n",
       "      <td>8.300</td>\n",
       "      <td>reg</td>\n",
       "      <td>0.038428</td>\n",
       "      <td>Dairy</td>\n",
       "      <td>87.3198</td>\n",
       "      <td>OUT017</td>\n",
       "      <td>2007</td>\n",
       "      <td>NaN</td>\n",
       "      <td>Tier 2</td>\n",
       "      <td>Supermarket Type1</td>\n",
       "    </tr>\n",
       "    <tr>\n",
       "      <th>2</th>\n",
       "      <td>NCN55</td>\n",
       "      <td>14.600</td>\n",
       "      <td>Low Fat</td>\n",
       "      <td>0.099575</td>\n",
       "      <td>Others</td>\n",
       "      <td>241.7538</td>\n",
       "      <td>OUT010</td>\n",
       "      <td>1998</td>\n",
       "      <td>NaN</td>\n",
       "      <td>Tier 3</td>\n",
       "      <td>Grocery Store</td>\n",
       "    </tr>\n",
       "    <tr>\n",
       "      <th>3</th>\n",
       "      <td>FDQ58</td>\n",
       "      <td>7.315</td>\n",
       "      <td>Low Fat</td>\n",
       "      <td>0.015388</td>\n",
       "      <td>Snack Foods</td>\n",
       "      <td>155.0340</td>\n",
       "      <td>OUT017</td>\n",
       "      <td>2007</td>\n",
       "      <td>NaN</td>\n",
       "      <td>Tier 2</td>\n",
       "      <td>Supermarket Type1</td>\n",
       "    </tr>\n",
       "    <tr>\n",
       "      <th>4</th>\n",
       "      <td>FDY38</td>\n",
       "      <td>NaN</td>\n",
       "      <td>Regular</td>\n",
       "      <td>0.118599</td>\n",
       "      <td>Dairy</td>\n",
       "      <td>234.2300</td>\n",
       "      <td>OUT027</td>\n",
       "      <td>1985</td>\n",
       "      <td>Medium</td>\n",
       "      <td>Tier 3</td>\n",
       "      <td>Supermarket Type3</td>\n",
       "    </tr>\n",
       "    <tr>\n",
       "      <th>5</th>\n",
       "      <td>FDH56</td>\n",
       "      <td>9.800</td>\n",
       "      <td>Regular</td>\n",
       "      <td>0.063817</td>\n",
       "      <td>Fruits and Vegetables</td>\n",
       "      <td>117.1492</td>\n",
       "      <td>OUT046</td>\n",
       "      <td>1997</td>\n",
       "      <td>Small</td>\n",
       "      <td>Tier 1</td>\n",
       "      <td>Supermarket Type1</td>\n",
       "    </tr>\n",
       "    <tr>\n",
       "      <th>6</th>\n",
       "      <td>FDL48</td>\n",
       "      <td>19.350</td>\n",
       "      <td>Regular</td>\n",
       "      <td>0.082602</td>\n",
       "      <td>Baking Goods</td>\n",
       "      <td>50.1034</td>\n",
       "      <td>OUT018</td>\n",
       "      <td>2009</td>\n",
       "      <td>Medium</td>\n",
       "      <td>Tier 3</td>\n",
       "      <td>Supermarket Type2</td>\n",
       "    </tr>\n",
       "    <tr>\n",
       "      <th>7</th>\n",
       "      <td>FDC48</td>\n",
       "      <td>NaN</td>\n",
       "      <td>Low Fat</td>\n",
       "      <td>0.015782</td>\n",
       "      <td>Baking Goods</td>\n",
       "      <td>81.0592</td>\n",
       "      <td>OUT027</td>\n",
       "      <td>1985</td>\n",
       "      <td>Medium</td>\n",
       "      <td>Tier 3</td>\n",
       "      <td>Supermarket Type3</td>\n",
       "    </tr>\n",
       "    <tr>\n",
       "      <th>8</th>\n",
       "      <td>FDN33</td>\n",
       "      <td>6.305</td>\n",
       "      <td>Regular</td>\n",
       "      <td>0.123365</td>\n",
       "      <td>Snack Foods</td>\n",
       "      <td>95.7436</td>\n",
       "      <td>OUT045</td>\n",
       "      <td>2002</td>\n",
       "      <td>NaN</td>\n",
       "      <td>Tier 2</td>\n",
       "      <td>Supermarket Type1</td>\n",
       "    </tr>\n",
       "    <tr>\n",
       "      <th>9</th>\n",
       "      <td>FDA36</td>\n",
       "      <td>5.985</td>\n",
       "      <td>Low Fat</td>\n",
       "      <td>0.005698</td>\n",
       "      <td>Baking Goods</td>\n",
       "      <td>186.8924</td>\n",
       "      <td>OUT017</td>\n",
       "      <td>2007</td>\n",
       "      <td>NaN</td>\n",
       "      <td>Tier 2</td>\n",
       "      <td>Supermarket Type1</td>\n",
       "    </tr>\n",
       "  </tbody>\n",
       "</table>\n",
       "</div>"
      ],
      "text/plain": [
       "  Item_Identifier  Item_Weight Item_Fat_Content  Item_Visibility  \\\n",
       "0           FDW58       20.750          Low Fat         0.007565   \n",
       "1           FDW14        8.300              reg         0.038428   \n",
       "2           NCN55       14.600          Low Fat         0.099575   \n",
       "3           FDQ58        7.315          Low Fat         0.015388   \n",
       "4           FDY38          NaN          Regular         0.118599   \n",
       "5           FDH56        9.800          Regular         0.063817   \n",
       "6           FDL48       19.350          Regular         0.082602   \n",
       "7           FDC48          NaN          Low Fat         0.015782   \n",
       "8           FDN33        6.305          Regular         0.123365   \n",
       "9           FDA36        5.985          Low Fat         0.005698   \n",
       "\n",
       "               Item_Type  Item_MRP Outlet_Identifier  \\\n",
       "0            Snack Foods  107.8622            OUT049   \n",
       "1                  Dairy   87.3198            OUT017   \n",
       "2                 Others  241.7538            OUT010   \n",
       "3            Snack Foods  155.0340            OUT017   \n",
       "4                  Dairy  234.2300            OUT027   \n",
       "5  Fruits and Vegetables  117.1492            OUT046   \n",
       "6           Baking Goods   50.1034            OUT018   \n",
       "7           Baking Goods   81.0592            OUT027   \n",
       "8            Snack Foods   95.7436            OUT045   \n",
       "9           Baking Goods  186.8924            OUT017   \n",
       "\n",
       "   Outlet_Establishment_Year Outlet_Size Outlet_Location_Type  \\\n",
       "0                       1999      Medium               Tier 1   \n",
       "1                       2007         NaN               Tier 2   \n",
       "2                       1998         NaN               Tier 3   \n",
       "3                       2007         NaN               Tier 2   \n",
       "4                       1985      Medium               Tier 3   \n",
       "5                       1997       Small               Tier 1   \n",
       "6                       2009      Medium               Tier 3   \n",
       "7                       1985      Medium               Tier 3   \n",
       "8                       2002         NaN               Tier 2   \n",
       "9                       2007         NaN               Tier 2   \n",
       "\n",
       "         Outlet_Type  \n",
       "0  Supermarket Type1  \n",
       "1  Supermarket Type1  \n",
       "2      Grocery Store  \n",
       "3  Supermarket Type1  \n",
       "4  Supermarket Type3  \n",
       "5  Supermarket Type1  \n",
       "6  Supermarket Type2  \n",
       "7  Supermarket Type3  \n",
       "8  Supermarket Type1  \n",
       "9  Supermarket Type1  "
      ]
     },
     "execution_count": 103,
     "metadata": {},
     "output_type": "execute_result"
    }
   ],
   "source": [
    "sales_df_test.head(10)"
   ]
  },
  {
   "cell_type": "code",
   "execution_count": 104,
   "metadata": {},
   "outputs": [
    {
     "data": {
      "text/plain": [
       "Item_Identifier                 0\n",
       "Item_Weight                   976\n",
       "Item_Fat_Content                0\n",
       "Item_Visibility                 0\n",
       "Item_Type                       0\n",
       "Item_MRP                        0\n",
       "Outlet_Identifier               0\n",
       "Outlet_Establishment_Year       0\n",
       "Outlet_Size                  1606\n",
       "Outlet_Location_Type            0\n",
       "Outlet_Type                     0\n",
       "dtype: int64"
      ]
     },
     "execution_count": 104,
     "metadata": {},
     "output_type": "execute_result"
    }
   ],
   "source": [
    "sales_df_test.isnull().sum()"
   ]
  },
  {
   "cell_type": "code",
   "execution_count": 105,
   "metadata": {},
   "outputs": [
    {
     "data": {
      "text/plain": [
       "array(['Low Fat', 'reg', 'Regular', 'LF', 'low fat'], dtype=object)"
      ]
     },
     "execution_count": 105,
     "metadata": {},
     "output_type": "execute_result"
    }
   ],
   "source": [
    "sales_df_test['Item_Fat_Content'].unique()"
   ]
  },
  {
   "cell_type": "code",
   "execution_count": 106,
   "metadata": {},
   "outputs": [],
   "source": [
    "replaced_values={'low fat':'Low Fat','reg':'Regular','LF':'Low Fat'}\n",
    "sales_df_test['Item_Fat_Content'] = sales_df_test['Item_Fat_Content'].replace(replaced_values) "
   ]
  },
  {
   "cell_type": "markdown",
   "metadata": {},
   "source": [
    "### Filling the missing values"
   ]
  },
  {
   "cell_type": "code",
   "execution_count": 107,
   "metadata": {},
   "outputs": [
    {
     "data": {
      "text/plain": [
       "array(['Low Fat', 'Regular'], dtype=object)"
      ]
     },
     "execution_count": 107,
     "metadata": {},
     "output_type": "execute_result"
    }
   ],
   "source": [
    "sales_df_test['Item_Fat_Content'].unique()"
   ]
  },
  {
   "cell_type": "code",
   "execution_count": 108,
   "metadata": {},
   "outputs": [],
   "source": [
    "sales_df_test[\"Item_Weight\"] = sales_df_test[\"Item_Weight\"].fillna(sales_df_test.groupby(['Item_Identifier','Item_Fat_Content','Item_Type'])['Item_Weight'].transform('mean'))"
   ]
  },
  {
   "cell_type": "code",
   "execution_count": 109,
   "metadata": {},
   "outputs": [],
   "source": [
    "sales_df_test[\"Outlet_Size\"].fillna(sales_df_test[\"Outlet_Size\"].mode()[0],inplace=True)"
   ]
  },
  {
   "cell_type": "code",
   "execution_count": 110,
   "metadata": {},
   "outputs": [
    {
     "data": {
      "text/plain": [
       "Item_Identifier               0\n",
       "Item_Weight                  20\n",
       "Item_Fat_Content              0\n",
       "Item_Visibility               0\n",
       "Item_Type                     0\n",
       "Item_MRP                      0\n",
       "Outlet_Identifier             0\n",
       "Outlet_Establishment_Year     0\n",
       "Outlet_Size                   0\n",
       "Outlet_Location_Type          0\n",
       "Outlet_Type                   0\n",
       "dtype: int64"
      ]
     },
     "execution_count": 110,
     "metadata": {},
     "output_type": "execute_result"
    }
   ],
   "source": [
    "sales_df_test.isnull().sum()"
   ]
  },
  {
   "cell_type": "code",
   "execution_count": 111,
   "metadata": {},
   "outputs": [],
   "source": [
    "sales_df_test = sales_df_test.dropna()"
   ]
  },
  {
   "cell_type": "markdown",
   "metadata": {},
   "source": [
    "### Scaling the data"
   ]
  },
  {
   "cell_type": "code",
   "execution_count": 112,
   "metadata": {},
   "outputs": [],
   "source": [
    "# Let us start with our Outlet_Size variable and Item_Fat_Content. Being ordinal is nature, we can use one Label Encoding\n",
    "from sklearn.preprocessing import OneHotEncoder, LabelEncoder\n",
    "labelencoder = LabelEncoder()\n",
    "sales_df_test[\"Outlet_Size\"] = labelencoder.fit_transform(sales_df_test[\"Outlet_Size\"])\n",
    "sales_df_test[\"Item_Fat_Content\"] = labelencoder.fit_transform(sales_df_test[\"Item_Fat_Content\"])"
   ]
  },
  {
   "cell_type": "code",
   "execution_count": 113,
   "metadata": {},
   "outputs": [],
   "source": [
    "sales_columns = ['Item_Type','Outlet_Location_Type','Outlet_Type']\n",
    "\n",
    "# Let us now consider nominal data such as Item_Type, Outlet_Location_Type, and Outlet_Type\n",
    "for feature in sales_columns:\n",
    "    sales_df_temp = sales_df_test[feature]\n",
    "    sales_df_temp = pd.get_dummies(sales_df_temp,columns=[feature],drop_first=True)\n",
    "    sales_df_test = sales_df_test.join(sales_df_temp)"
   ]
  },
  {
   "cell_type": "code",
   "execution_count": 114,
   "metadata": {},
   "outputs": [
    {
     "data": {
      "text/html": [
       "<div>\n",
       "<style scoped>\n",
       "    .dataframe tbody tr th:only-of-type {\n",
       "        vertical-align: middle;\n",
       "    }\n",
       "\n",
       "    .dataframe tbody tr th {\n",
       "        vertical-align: top;\n",
       "    }\n",
       "\n",
       "    .dataframe thead th {\n",
       "        text-align: right;\n",
       "    }\n",
       "</style>\n",
       "<table border=\"1\" class=\"dataframe\">\n",
       "  <thead>\n",
       "    <tr style=\"text-align: right;\">\n",
       "      <th></th>\n",
       "      <th>Item_Weight</th>\n",
       "      <th>Item_Fat_Content</th>\n",
       "      <th>Item_Visibility</th>\n",
       "      <th>Item_MRP</th>\n",
       "      <th>Outlet_Establishment_Year</th>\n",
       "      <th>Outlet_Size</th>\n",
       "      <th>Breads</th>\n",
       "      <th>Breakfast</th>\n",
       "      <th>Canned</th>\n",
       "      <th>Dairy</th>\n",
       "      <th>...</th>\n",
       "      <th>Others</th>\n",
       "      <th>Seafood</th>\n",
       "      <th>Snack Foods</th>\n",
       "      <th>Soft Drinks</th>\n",
       "      <th>Starchy Foods</th>\n",
       "      <th>Tier 2</th>\n",
       "      <th>Tier 3</th>\n",
       "      <th>Supermarket Type1</th>\n",
       "      <th>Supermarket Type2</th>\n",
       "      <th>Supermarket Type3</th>\n",
       "    </tr>\n",
       "  </thead>\n",
       "  <tbody>\n",
       "    <tr>\n",
       "      <th>0</th>\n",
       "      <td>20.750</td>\n",
       "      <td>0</td>\n",
       "      <td>0.007565</td>\n",
       "      <td>107.8622</td>\n",
       "      <td>1999</td>\n",
       "      <td>1</td>\n",
       "      <td>0</td>\n",
       "      <td>0</td>\n",
       "      <td>0</td>\n",
       "      <td>0</td>\n",
       "      <td>...</td>\n",
       "      <td>0</td>\n",
       "      <td>0</td>\n",
       "      <td>1</td>\n",
       "      <td>0</td>\n",
       "      <td>0</td>\n",
       "      <td>0</td>\n",
       "      <td>0</td>\n",
       "      <td>1</td>\n",
       "      <td>0</td>\n",
       "      <td>0</td>\n",
       "    </tr>\n",
       "    <tr>\n",
       "      <th>1</th>\n",
       "      <td>8.300</td>\n",
       "      <td>1</td>\n",
       "      <td>0.038428</td>\n",
       "      <td>87.3198</td>\n",
       "      <td>2007</td>\n",
       "      <td>1</td>\n",
       "      <td>0</td>\n",
       "      <td>0</td>\n",
       "      <td>0</td>\n",
       "      <td>1</td>\n",
       "      <td>...</td>\n",
       "      <td>0</td>\n",
       "      <td>0</td>\n",
       "      <td>0</td>\n",
       "      <td>0</td>\n",
       "      <td>0</td>\n",
       "      <td>1</td>\n",
       "      <td>0</td>\n",
       "      <td>1</td>\n",
       "      <td>0</td>\n",
       "      <td>0</td>\n",
       "    </tr>\n",
       "    <tr>\n",
       "      <th>2</th>\n",
       "      <td>14.600</td>\n",
       "      <td>0</td>\n",
       "      <td>0.099575</td>\n",
       "      <td>241.7538</td>\n",
       "      <td>1998</td>\n",
       "      <td>1</td>\n",
       "      <td>0</td>\n",
       "      <td>0</td>\n",
       "      <td>0</td>\n",
       "      <td>0</td>\n",
       "      <td>...</td>\n",
       "      <td>1</td>\n",
       "      <td>0</td>\n",
       "      <td>0</td>\n",
       "      <td>0</td>\n",
       "      <td>0</td>\n",
       "      <td>0</td>\n",
       "      <td>1</td>\n",
       "      <td>0</td>\n",
       "      <td>0</td>\n",
       "      <td>0</td>\n",
       "    </tr>\n",
       "    <tr>\n",
       "      <th>3</th>\n",
       "      <td>7.315</td>\n",
       "      <td>0</td>\n",
       "      <td>0.015388</td>\n",
       "      <td>155.0340</td>\n",
       "      <td>2007</td>\n",
       "      <td>1</td>\n",
       "      <td>0</td>\n",
       "      <td>0</td>\n",
       "      <td>0</td>\n",
       "      <td>0</td>\n",
       "      <td>...</td>\n",
       "      <td>0</td>\n",
       "      <td>0</td>\n",
       "      <td>1</td>\n",
       "      <td>0</td>\n",
       "      <td>0</td>\n",
       "      <td>1</td>\n",
       "      <td>0</td>\n",
       "      <td>1</td>\n",
       "      <td>0</td>\n",
       "      <td>0</td>\n",
       "    </tr>\n",
       "    <tr>\n",
       "      <th>4</th>\n",
       "      <td>13.600</td>\n",
       "      <td>1</td>\n",
       "      <td>0.118599</td>\n",
       "      <td>234.2300</td>\n",
       "      <td>1985</td>\n",
       "      <td>1</td>\n",
       "      <td>0</td>\n",
       "      <td>0</td>\n",
       "      <td>0</td>\n",
       "      <td>1</td>\n",
       "      <td>...</td>\n",
       "      <td>0</td>\n",
       "      <td>0</td>\n",
       "      <td>0</td>\n",
       "      <td>0</td>\n",
       "      <td>0</td>\n",
       "      <td>0</td>\n",
       "      <td>1</td>\n",
       "      <td>0</td>\n",
       "      <td>0</td>\n",
       "      <td>1</td>\n",
       "    </tr>\n",
       "    <tr>\n",
       "      <th>...</th>\n",
       "      <td>...</td>\n",
       "      <td>...</td>\n",
       "      <td>...</td>\n",
       "      <td>...</td>\n",
       "      <td>...</td>\n",
       "      <td>...</td>\n",
       "      <td>...</td>\n",
       "      <td>...</td>\n",
       "      <td>...</td>\n",
       "      <td>...</td>\n",
       "      <td>...</td>\n",
       "      <td>...</td>\n",
       "      <td>...</td>\n",
       "      <td>...</td>\n",
       "      <td>...</td>\n",
       "      <td>...</td>\n",
       "      <td>...</td>\n",
       "      <td>...</td>\n",
       "      <td>...</td>\n",
       "      <td>...</td>\n",
       "      <td>...</td>\n",
       "    </tr>\n",
       "    <tr>\n",
       "      <th>5676</th>\n",
       "      <td>10.500</td>\n",
       "      <td>1</td>\n",
       "      <td>0.013496</td>\n",
       "      <td>141.3154</td>\n",
       "      <td>1997</td>\n",
       "      <td>2</td>\n",
       "      <td>0</td>\n",
       "      <td>0</td>\n",
       "      <td>0</td>\n",
       "      <td>0</td>\n",
       "      <td>...</td>\n",
       "      <td>0</td>\n",
       "      <td>0</td>\n",
       "      <td>1</td>\n",
       "      <td>0</td>\n",
       "      <td>0</td>\n",
       "      <td>0</td>\n",
       "      <td>0</td>\n",
       "      <td>1</td>\n",
       "      <td>0</td>\n",
       "      <td>0</td>\n",
       "    </tr>\n",
       "    <tr>\n",
       "      <th>5677</th>\n",
       "      <td>7.600</td>\n",
       "      <td>1</td>\n",
       "      <td>0.142991</td>\n",
       "      <td>169.1448</td>\n",
       "      <td>2009</td>\n",
       "      <td>1</td>\n",
       "      <td>0</td>\n",
       "      <td>0</td>\n",
       "      <td>0</td>\n",
       "      <td>0</td>\n",
       "      <td>...</td>\n",
       "      <td>0</td>\n",
       "      <td>0</td>\n",
       "      <td>0</td>\n",
       "      <td>0</td>\n",
       "      <td>1</td>\n",
       "      <td>0</td>\n",
       "      <td>1</td>\n",
       "      <td>0</td>\n",
       "      <td>1</td>\n",
       "      <td>0</td>\n",
       "    </tr>\n",
       "    <tr>\n",
       "      <th>5678</th>\n",
       "      <td>10.000</td>\n",
       "      <td>0</td>\n",
       "      <td>0.073529</td>\n",
       "      <td>118.7440</td>\n",
       "      <td>2002</td>\n",
       "      <td>1</td>\n",
       "      <td>0</td>\n",
       "      <td>0</td>\n",
       "      <td>0</td>\n",
       "      <td>0</td>\n",
       "      <td>...</td>\n",
       "      <td>0</td>\n",
       "      <td>0</td>\n",
       "      <td>0</td>\n",
       "      <td>0</td>\n",
       "      <td>0</td>\n",
       "      <td>1</td>\n",
       "      <td>0</td>\n",
       "      <td>1</td>\n",
       "      <td>0</td>\n",
       "      <td>0</td>\n",
       "    </tr>\n",
       "    <tr>\n",
       "      <th>5679</th>\n",
       "      <td>15.300</td>\n",
       "      <td>1</td>\n",
       "      <td>0.000000</td>\n",
       "      <td>214.6218</td>\n",
       "      <td>2007</td>\n",
       "      <td>1</td>\n",
       "      <td>0</td>\n",
       "      <td>0</td>\n",
       "      <td>1</td>\n",
       "      <td>0</td>\n",
       "      <td>...</td>\n",
       "      <td>0</td>\n",
       "      <td>0</td>\n",
       "      <td>0</td>\n",
       "      <td>0</td>\n",
       "      <td>0</td>\n",
       "      <td>1</td>\n",
       "      <td>0</td>\n",
       "      <td>1</td>\n",
       "      <td>0</td>\n",
       "      <td>0</td>\n",
       "    </tr>\n",
       "    <tr>\n",
       "      <th>5680</th>\n",
       "      <td>9.500</td>\n",
       "      <td>1</td>\n",
       "      <td>0.104720</td>\n",
       "      <td>79.7960</td>\n",
       "      <td>2002</td>\n",
       "      <td>1</td>\n",
       "      <td>0</td>\n",
       "      <td>0</td>\n",
       "      <td>1</td>\n",
       "      <td>0</td>\n",
       "      <td>...</td>\n",
       "      <td>0</td>\n",
       "      <td>0</td>\n",
       "      <td>0</td>\n",
       "      <td>0</td>\n",
       "      <td>0</td>\n",
       "      <td>1</td>\n",
       "      <td>0</td>\n",
       "      <td>1</td>\n",
       "      <td>0</td>\n",
       "      <td>0</td>\n",
       "    </tr>\n",
       "  </tbody>\n",
       "</table>\n",
       "<p>5661 rows × 26 columns</p>\n",
       "</div>"
      ],
      "text/plain": [
       "      Item_Weight  Item_Fat_Content  Item_Visibility  Item_MRP  \\\n",
       "0          20.750                 0         0.007565  107.8622   \n",
       "1           8.300                 1         0.038428   87.3198   \n",
       "2          14.600                 0         0.099575  241.7538   \n",
       "3           7.315                 0         0.015388  155.0340   \n",
       "4          13.600                 1         0.118599  234.2300   \n",
       "...           ...               ...              ...       ...   \n",
       "5676       10.500                 1         0.013496  141.3154   \n",
       "5677        7.600                 1         0.142991  169.1448   \n",
       "5678       10.000                 0         0.073529  118.7440   \n",
       "5679       15.300                 1         0.000000  214.6218   \n",
       "5680        9.500                 1         0.104720   79.7960   \n",
       "\n",
       "      Outlet_Establishment_Year  Outlet_Size  Breads  Breakfast  Canned  \\\n",
       "0                          1999            1       0          0       0   \n",
       "1                          2007            1       0          0       0   \n",
       "2                          1998            1       0          0       0   \n",
       "3                          2007            1       0          0       0   \n",
       "4                          1985            1       0          0       0   \n",
       "...                         ...          ...     ...        ...     ...   \n",
       "5676                       1997            2       0          0       0   \n",
       "5677                       2009            1       0          0       0   \n",
       "5678                       2002            1       0          0       0   \n",
       "5679                       2007            1       0          0       1   \n",
       "5680                       2002            1       0          0       1   \n",
       "\n",
       "      Dairy  ...  Others  Seafood  Snack Foods  Soft Drinks  Starchy Foods  \\\n",
       "0         0  ...       0        0            1            0              0   \n",
       "1         1  ...       0        0            0            0              0   \n",
       "2         0  ...       1        0            0            0              0   \n",
       "3         0  ...       0        0            1            0              0   \n",
       "4         1  ...       0        0            0            0              0   \n",
       "...     ...  ...     ...      ...          ...          ...            ...   \n",
       "5676      0  ...       0        0            1            0              0   \n",
       "5677      0  ...       0        0            0            0              1   \n",
       "5678      0  ...       0        0            0            0              0   \n",
       "5679      0  ...       0        0            0            0              0   \n",
       "5680      0  ...       0        0            0            0              0   \n",
       "\n",
       "      Tier 2  Tier 3  Supermarket Type1  Supermarket Type2  Supermarket Type3  \n",
       "0          0       0                  1                  0                  0  \n",
       "1          1       0                  1                  0                  0  \n",
       "2          0       1                  0                  0                  0  \n",
       "3          1       0                  1                  0                  0  \n",
       "4          0       1                  0                  0                  1  \n",
       "...      ...     ...                ...                ...                ...  \n",
       "5676       0       0                  1                  0                  0  \n",
       "5677       0       1                  0                  1                  0  \n",
       "5678       1       0                  1                  0                  0  \n",
       "5679       1       0                  1                  0                  0  \n",
       "5680       1       0                  1                  0                  0  \n",
       "\n",
       "[5661 rows x 26 columns]"
      ]
     },
     "execution_count": 114,
     "metadata": {},
     "output_type": "execute_result"
    }
   ],
   "source": [
    "sales_df_test = sales_df_test.drop(['Item_Type','Outlet_Location_Type','Outlet_Type','Item_Identifier','Outlet_Identifier'],axis=1)\n",
    "sales_df_test"
   ]
  },
  {
   "cell_type": "code",
   "execution_count": 115,
   "metadata": {},
   "outputs": [
    {
     "data": {
      "text/plain": [
       "0       0.007565\n",
       "1       0.038428\n",
       "2       0.099575\n",
       "3       0.015388\n",
       "4       0.118599\n",
       "          ...   \n",
       "5676    0.013496\n",
       "5677    0.142991\n",
       "5678    0.073529\n",
       "5679    0.065697\n",
       "5680    0.104720\n",
       "Name: Item_Visibility, Length: 5661, dtype: float64"
      ]
     },
     "execution_count": 115,
     "metadata": {},
     "output_type": "execute_result"
    }
   ],
   "source": [
    "sales_df_test['Item_Visibility'] = sales_df_test[\"Item_Visibility\"].replace({0:np.mean(sales_df_test[\"Item_Visibility\"])}) \n",
    "sales_df_test['Item_Visibility']"
   ]
  },
  {
   "cell_type": "code",
   "execution_count": 116,
   "metadata": {},
   "outputs": [],
   "source": [
    "from sklearn.preprocessing import StandardScaler\n",
    "scaler_test_X = StandardScaler()"
   ]
  },
  {
   "cell_type": "code",
   "execution_count": 117,
   "metadata": {},
   "outputs": [],
   "source": [
    "sales_df_test.iloc[:,[0,3,4]] = scaler_test_X.fit_transform(sales_df_test.iloc[:,[0,3,4]])"
   ]
  },
  {
   "cell_type": "markdown",
   "metadata": {},
   "source": [
    "### Given our test data, let us make two predictions:\n",
    "- With the entire data \n",
    "- With the reduced features"
   ]
  },
  {
   "cell_type": "code",
   "execution_count": 118,
   "metadata": {},
   "outputs": [],
   "source": [
    "Y_predicted_test = reg.predict(sales_df_test)"
   ]
  },
  {
   "cell_type": "markdown",
   "metadata": {},
   "source": [
    "#### Our values are in decimals because we have scaled the data earlier. On reversing this process, we can achieve the real sales output"
   ]
  },
  {
   "cell_type": "code",
   "execution_count": 119,
   "metadata": {},
   "outputs": [],
   "source": [
    "Y_predicted_test = Y_predicted_test*np.std(sales_df['Item_Sales']) + np.mean(sales_df['Item_Sales'])"
   ]
  },
  {
   "cell_type": "code",
   "execution_count": 120,
   "metadata": {},
   "outputs": [
    {
     "data": {
      "text/plain": [
       "array([1778.21656075, 1447.42909962, 1891.67586672, ..., 1901.99769739,\n",
       "       3495.65654183, 1395.44501349])"
      ]
     },
     "execution_count": 120,
     "metadata": {},
     "output_type": "execute_result"
    }
   ],
   "source": [
    "Y_predicted_test"
   ]
  },
  {
   "cell_type": "markdown",
   "metadata": {},
   "source": [
    "### Repeating the same process with reduced features"
   ]
  },
  {
   "cell_type": "code",
   "execution_count": 121,
   "metadata": {},
   "outputs": [],
   "source": [
    "sales_df_reduced = sales_df_test.drop(sales_df_test.iloc[:,6:21],axis=1)"
   ]
  },
  {
   "cell_type": "code",
   "execution_count": 122,
   "metadata": {},
   "outputs": [],
   "source": [
    "Y_predicted_test_reduced = reg_temp.predict(sales_df_reduced)"
   ]
  },
  {
   "cell_type": "code",
   "execution_count": 123,
   "metadata": {},
   "outputs": [],
   "source": [
    "Y_predicted_test_reduced = Y_predicted_test_reduced*np.std(sales_df['Item_Sales']) + np.mean(sales_df['Item_Sales'])"
   ]
  },
  {
   "cell_type": "code",
   "execution_count": 124,
   "metadata": {},
   "outputs": [
    {
     "data": {
      "text/plain": [
       "array([2142.75640648, 2165.95001527, 2098.40324262, ..., 2191.330423  ,\n",
       "       2372.09740868, 2146.97598741])"
      ]
     },
     "execution_count": 124,
     "metadata": {},
     "output_type": "execute_result"
    }
   ],
   "source": [
    "Y_predicted_test_reduced"
   ]
  },
  {
   "cell_type": "markdown",
   "metadata": {},
   "source": [
    "### Let us repeat the above process for our SVM regressor"
   ]
  },
  {
   "cell_type": "markdown",
   "metadata": {},
   "source": [
    "#### Making a prediction on the whole data"
   ]
  },
  {
   "cell_type": "code",
   "execution_count": 125,
   "metadata": {},
   "outputs": [],
   "source": [
    "Y_predicted_test_svm = reg_svr.predict(sales_df_test)"
   ]
  },
  {
   "cell_type": "code",
   "execution_count": 126,
   "metadata": {},
   "outputs": [],
   "source": [
    "Y_predicted_test_svm = Y_predicted_test_svm*np.std(sales_df['Item_Sales']) + np.mean(sales_df['Item_Sales'])"
   ]
  },
  {
   "cell_type": "code",
   "execution_count": 127,
   "metadata": {},
   "outputs": [
    {
     "data": {
      "text/plain": [
       "array([1708.08764459, 1385.16286679, 1834.78969674, ..., 1887.68184815,\n",
       "       3293.06125337, 1352.04785172])"
      ]
     },
     "execution_count": 127,
     "metadata": {},
     "output_type": "execute_result"
    }
   ],
   "source": [
    "Y_predicted_test_svm"
   ]
  },
  {
   "cell_type": "markdown",
   "metadata": {},
   "source": [
    "#### Making a prediction on the reduced data"
   ]
  },
  {
   "cell_type": "code",
   "execution_count": 128,
   "metadata": {},
   "outputs": [],
   "source": [
    "Y_predicted_test_svm_reduced = reg_svr_temp.predict(sales_df_reduced)"
   ]
  },
  {
   "cell_type": "code",
   "execution_count": 129,
   "metadata": {},
   "outputs": [],
   "source": [
    "Y_predicted_test_svm_reduced = Y_predicted_test_svm_reduced*np.std(sales_df['Item_Sales']) + np.mean(sales_df['Item_Sales'])"
   ]
  },
  {
   "cell_type": "code",
   "execution_count": 130,
   "metadata": {},
   "outputs": [
    {
     "data": {
      "text/plain": [
       "array([1802.13446517, 1771.98201677, 1772.56322444, ..., 1815.40531329,\n",
       "       1995.05903218, 1731.8393627 ])"
      ]
     },
     "execution_count": 130,
     "metadata": {},
     "output_type": "execute_result"
    }
   ],
   "source": [
    "Y_predicted_test_svm_reduced"
   ]
  },
  {
   "cell_type": "markdown",
   "metadata": {},
   "source": [
    "## In conclusion, there were 4 models trained:\n",
    "1) Linear Regression with all variables<br>\n",
    "2) Linear Regression without Item Types<br>\n",
    "3) Support Vector Regression with linear kernel - All Variables<br>\n",
    "4) Support Vector Regression with linear kernel - without  Item Types<br>\n",
    "\n",
    "- It is evident that after removing Item Types, our model has performed worse.\n",
    "- Therefore, all variables are barring a few variables such as Item_Identifier and Outlet_Identifier, are required for our model.\n",
    "- The linear regression model has slightly performed better than the SVR model and Ridge model. It is the best model"
   ]
  }
 ],
 "metadata": {
  "kernelspec": {
   "display_name": "Python 3",
   "language": "python",
   "name": "python3"
  },
  "language_info": {
   "codemirror_mode": {
    "name": "ipython",
    "version": 3
   },
   "file_extension": ".py",
   "mimetype": "text/x-python",
   "name": "python",
   "nbconvert_exporter": "python",
   "pygments_lexer": "ipython3",
   "version": "3.7.6"
  }
 },
 "nbformat": 4,
 "nbformat_minor": 4
}
